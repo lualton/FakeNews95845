{
 "cells": [
  {
   "cell_type": "code",
   "execution_count": 1,
   "metadata": {},
   "outputs": [],
   "source": [
    "# Michael 2018/12 preprocess dataset and combine different data source\n",
    "import os\n",
    "import numpy as np\n",
    "import csv\n",
    "import pandas as pd"
   ]
  },
  {
   "cell_type": "code",
   "execution_count": 2,
   "metadata": {},
   "outputs": [],
   "source": [
    "celebrity_files_fake = os.listdir(\"./fakeNewsDatasetsVeronica2017/celebrityDataset/fake\")\n",
    "celebrity_files_legit = os.listdir(\"./fakeNewsDatasetsVeronica2017/celebrityDataset/legit\")\n",
    "\n",
    "news_files_fake = os.listdir(\"./fakeNewsDatasetsVeronica2017/fakeNewsDataset/fake\")\n",
    "news_files_ligit = os.listdir(\"./fakeNewsDatasetsVeronica2017/fakeNewsDataset/legit\")"
   ]
  },
  {
   "cell_type": "code",
   "execution_count": null,
   "metadata": {},
   "outputs": [],
   "source": [
    "# generate celebrity.csv\n",
    "content = [[\"head\",\"content\",\"class\",\"source\",\"file_name\"]]\n",
    "for file in celebrity_files_fake:\n",
    "    with open(os.path.join(\"./fakeNewsDatasetsVeronica2017/celebrityDataset/fake\",file),'r',encoding=\"utf-8\") as f:\n",
    "        tmp_content = f.readlines()\n",
    "    tmp = \"\"\n",
    "    for i,l in enumerate(tmp_content):\n",
    "        if i == 0:\n",
    "            head = l.replace(\"\\n\",\"\")\n",
    "        tmp += l\n",
    "    tmp = tmp.replace(\"\\n\",\"\")\n",
    "    content.append([head,tmp,\"fake\",\"celebrity\",file])\n",
    "for file in celebrity_files_legit:\n",
    "    with open(os.path.join(\"./fakeNewsDatasetsVeronica2017/celebrityDataset/legit\",file),'r',encoding=\"utf-8\") as f:\n",
    "        tmp_content = f.readlines()\n",
    "    tmp = \"\"\n",
    "    for i,l in enumerate(tmp_content):\n",
    "        if i == 0:\n",
    "            head = l.replace(\"\\n\",\"\")\n",
    "        tmp += l\n",
    "    tmp = tmp.replace(\"\\n\",\"\")\n",
    "    content.append([head,tmp,\"legit\",\"celebrity\",file])\n",
    "\n",
    "with open(\"celebrity.csv\",\"w\",encoding=\"utf-8\",newline='') as f:\n",
    "    csv.writer(f).writerows(content)"
   ]
  },
  {
   "cell_type": "code",
   "execution_count": null,
   "metadata": {},
   "outputs": [],
   "source": [
    "# generate news.csv\n",
    "content = [[\"head\",\"content\",\"class\",\"source\",\"file_name\"]]\n",
    "for file in news_files_fake:\n",
    "    with open(os.path.join(\"./fakeNewsDatasetsVeronica2017/fakeNewsDataset/fake\",file),'r',encoding=\"utf-8\") as f:\n",
    "        tmp_content = f.readlines()\n",
    "    tmp = \"\"\n",
    "    for i, l in enumerate(tmp_content):\n",
    "        if i == 0:\n",
    "            head = l.replace(\"\\n\",\"\")\n",
    "        tmp += l\n",
    "    tmp = tmp.replace(\"\\n\",\"\")\n",
    "    content.append([head,tmp,\"fake\",\"news\",file])\n",
    "for file in news_files_ligit:\n",
    "    with open(os.path.join(\"./fakeNewsDatasetsVeronica2017/fakeNewsDataset/legit\",file),'r',encoding=\"utf-8\") as f:\n",
    "        tmp_content = f.readlines()\n",
    "    tmp = \"\"\n",
    "    for i, l in enumerate(tmp_content):\n",
    "        if i == 0:\n",
    "            head = l.replace(\"\\n\",\"\")\n",
    "        tmp += l\n",
    "    tmp = tmp.replace(\"\\n\",\"\")    \n",
    "    content.append([head,tmp,\"legit\",\"news\",file])\n",
    "with open(\"news.csv\",\"w\",encoding=\"utf-8\",newline='') as f:\n",
    "    csv.writer(f).writerows(content)"
   ]
  },
  {
   "cell_type": "code",
   "execution_count": null,
   "metadata": {},
   "outputs": [],
   "source": [
    "news = pd.read_csv('news.csv')\n",
    "celebrity = pd.read_csv(\"celebrity.csv\")"
   ]
  },
  {
   "cell_type": "code",
   "execution_count": null,
   "metadata": {},
   "outputs": [],
   "source": [
    "news[\"class\"].value_counts()"
   ]
  },
  {
   "cell_type": "code",
   "execution_count": null,
   "metadata": {},
   "outputs": [],
   "source": [
    "celebrity[\"class\"].value_counts()"
   ]
  },
  {
   "cell_type": "markdown",
   "metadata": {},
   "source": [
    "# Combined Data"
   ]
  },
  {
   "cell_type": "code",
   "execution_count": 3,
   "metadata": {},
   "outputs": [
    {
     "name": "stderr",
     "output_type": "stream",
     "text": [
      "D:\\Anaconda\\lib\\site-packages\\gensim\\utils.py:1209: UserWarning: detected Windows; aliasing chunkize to chunkize_serial\n",
      "  warnings.warn(\"detected Windows; aliasing chunkize to chunkize_serial\")\n"
     ]
    }
   ],
   "source": [
    "import gensim\n",
    "import nltk\n",
    "import csv\n",
    "import numpy as np\n",
    "import pandas as pd\n",
    "from nltk.stem.porter import PorterStemmer\n",
    "from nltk.corpus import stopwords\n",
    "from nltk.tokenize import sent_tokenize\n",
    "from nltk.tokenize import word_tokenize\n",
    "from multiprocessing import cpu_count\n",
    "from gensim.models.word2vec import Word2Vec"
   ]
  },
  {
   "cell_type": "code",
   "execution_count": null,
   "metadata": {},
   "outputs": [],
   "source": [
    "def preprocessing(data_location,data_destination,content_col = 'content',label_col = 'class',feature_num = 50, training_epoch = 10):\n",
    "    data_raw = pd.read_csv(data_location)\n",
    "    data_raw_columns = data_raw.columns.values\n",
    "    print('Total instances:',data_raw.shape[0])\n",
    "    data_raw = data_raw.dropna(how='any')\n",
    "    stop_words = set(stopwords.words('english'))\n",
    "    stemmer = PorterStemmer()\n",
    "    doc_list = [] # list of tokenized sentences\n",
    "    bad_index = [] # index that should be removed\n",
    "    for index,doc in enumerate(data_raw[content_col]):\n",
    "        sen_list = []\n",
    "        try:\n",
    "            for s in sent_tokenize(doc):\n",
    "                filtered_s = [stemmer.stem(w) for w in word_tokenize(s) if not w in stop_words]\n",
    "                sen_list.extend(filtered_s)\n",
    "        except:\n",
    "            print(\"Wrong doc: \" , doc,\"Index: \" , index)\n",
    "            bad_index.extend([index])\n",
    "            continue\n",
    "        doc_list.append(sen_list)\n",
    "    model = Word2Vec(doc_list,size=feature_num,min_count=1,workers=cpu_count(),iter=training_epoch)\n",
    "    doc_vec = []\n",
    "    for index, sentences in enumerate(doc_list):\n",
    "        for word in sentences: \n",
    "            word_vec = None\n",
    "            word_count = 0\n",
    "            try:\n",
    "                if word_vec:\n",
    "                    word_vec += model.wv[word]\n",
    "                else:\n",
    "                    word_vec = model.wv[word]\n",
    "                word_count += 1\n",
    "            except:\n",
    "                print(\"Error key\", word)\n",
    "                continue\n",
    "        word_vec = word_vec / word_count\n",
    "        doc_vec.append(word_vec)\n",
    "    head = ['feature' + str(i) for i in range(len(doc_vec[0]))]\n",
    "    head.extend(['class'])\n",
    "    labels = data_raw[label_col].reshape((-1,1))\n",
    "    labels = np.delete(labels,bad_index,axis=0)\n",
    "    data_raw = np.delete(np.array(data_raw),bad_index,axis=0)\n",
    "    \n",
    "    print('Bad Index Num:',len(bad_index),'\\tBad Index:',bad_index)\n",
    "    print('Final label Num:',labels.shape)\n",
    "    print('Doc list Num',len(doc_list))\n",
    "    print('Doc Vec Num',np.array(doc_vec).shape)\n",
    "    print('data_raw shape:',data_raw.shape)\n",
    "\n",
    "    processed_data_vec = np.append(np.array(doc_vec),labels,axis = 1)\n",
    "    processed_data_vec = np.append(np.array(head).reshape(1,-1),processed_data_vec,axis=0)\n",
    "    \n",
    "    processed_data_raw = np.append(np.array(data_raw_columns).reshape((1,-1)),data_raw,axis = 0)\n",
    "    processed_data = np.append(processed_data_raw,processed_data_vec,axis = 1)\n",
    "    \n",
    "    with open(data_destination,\"w\",encoding=\"utf-8\",newline='') as f:\n",
    "        csv.writer(f).writerows(processed_data)"
   ]
  },
  {
   "cell_type": "code",
   "execution_count": null,
   "metadata": {},
   "outputs": [],
   "source": [
    "csv_file = './new_combination'\n",
    "csv_file = './data_expandedfeatures'\n",
    "csv_file = './data_Wang_expandedfeatures'\n",
    "# use combined data | delete mixture label because of its small sample size\n",
    "data_combined = pd.read_csv(csv_file + '.csv')\n",
    "print(data_combined['label'].value_counts())\n",
    "data_combined = data_combined.loc[data_combined['label'].isin(['real','fake'])]\n",
    "min_num_for_group = data_combined.groupby('label').size().reset_index(name='counts')['counts'].min()\n",
    "print(\"minimum group number\",min_num_for_group)\n",
    "data_combined_balance = data_combined.groupby('label').apply(lambda x:x.sample(min_num_for_group))\n",
    "data_combined_balance = data_combined_balance.drop(['title','author','url'],axis=1)\n",
    "print('shape',data_combined_balance.shape)\n",
    "data_combined_balance.to_csv( csv_file + '_processed.csv',index=False)\n",
    "print('After process label distribution:\\n',data_combined_balance['label'].value_counts())"
   ]
  },
  {
   "cell_type": "code",
   "execution_count": null,
   "metadata": {},
   "outputs": [],
   "source": [
    "source = csv_file + '_processed.csv'\n",
    "dest = csv_file + '_balanced.csv'\n",
    "preprocessing(data_location=source,data_destination=dest,label_col='label',content_col='text')\n",
    "tmp_combination = pd.read_csv(dest)\n",
    "tmp_combination = tmp_combination.drop(['text','label'],axis=1)\n",
    "print('final document shape',tmp_combination.shape)\n",
    "tmp_combination.to_csv(dest,index=False)"
   ]
  },
  {
   "cell_type": "code",
   "execution_count": null,
   "metadata": {},
   "outputs": [],
   "source": [
    "source = csv_file + '_processed.csv'\n",
    "dest = csv_file + '_balanced_20compress.csv'\n",
    "preprocessing(data_location=source,data_destination=dest,label_col='label',content_col='text',feature_num=20)\n",
    "tmp_combination = pd.read_csv(dest)\n",
    "tmp_combination = tmp_combination.drop(['text','label'],axis=1)\n",
    "print('final document shape',tmp_combination.shape)\n",
    "tmp_combination.to_csv(dest,index=False)"
   ]
  }
 ],
 "metadata": {
  "kernelspec": {
   "display_name": "Python 3",
   "language": "python",
   "name": "python3"
  },
  "language_info": {
   "codemirror_mode": {
    "name": "ipython",
    "version": 3
   },
   "file_extension": ".py",
   "mimetype": "text/x-python",
   "name": "python",
   "nbconvert_exporter": "python",
   "pygments_lexer": "ipython3",
   "version": "3.6.4"
  }
 },
 "nbformat": 4,
 "nbformat_minor": 2
}
