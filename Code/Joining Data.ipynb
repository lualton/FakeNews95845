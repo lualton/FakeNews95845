{
 "cells": [
  {
   "cell_type": "markdown",
   "metadata": {},
   "source": [
    "### Joining Fake News data\n",
    "\n",
    "This notebook will join different datasets from McIntire-Kaggle, Veronica et al. 2017, and BuzzFeed Fake News Corpus"
   ]
  },
  {
   "cell_type": "code",
   "execution_count": 1,
   "metadata": {},
   "outputs": [],
   "source": [
    "import pandas as pd\n",
    "import numpy as np\n",
    "from IPython.core.interactiveshell import InteractiveShell\n",
    "InteractiveShell.ast_node_interactivity = \"all\""
   ]
  },
  {
   "cell_type": "code",
   "execution_count": 2,
   "metadata": {},
   "outputs": [
    {
     "data": {
      "text/plain": [
       "(1627, 5)"
      ]
     },
     "execution_count": 2,
     "metadata": {},
     "output_type": "execute_result"
    },
    {
     "data": {
      "text/plain": [
       "(6335, 4)"
      ]
     },
     "execution_count": 2,
     "metadata": {},
     "output_type": "execute_result"
    },
    {
     "data": {
      "text/plain": [
       "(480, 4)"
      ]
     },
     "execution_count": 2,
     "metadata": {},
     "output_type": "execute_result"
    },
    {
     "data": {
      "text/plain": [
       "(500, 4)"
      ]
     },
     "execution_count": 2,
     "metadata": {},
     "output_type": "execute_result"
    }
   ],
   "source": [
    "buzz = pd.read_csv(\"data/buzzfeedcorpus.csv\")\n",
    "kaggle = pd.read_csv(\"data/fake_or_real_news.csv\")\n",
    "news = pd.read_csv('data/news.csv')\n",
    "celebrity = pd.read_csv(\"data/celebrity.csv\")\n",
    "\n",
    "buzz.shape\n",
    "kaggle.shape\n",
    "news.shape\n",
    "celebrity.shape"
   ]
  },
  {
   "cell_type": "code",
   "execution_count": 3,
   "metadata": {},
   "outputs": [
    {
     "data": {
      "text/plain": [
       "Index(['title', 'author', 'text', 'url', 'veracity'], dtype='object')"
      ]
     },
     "execution_count": 3,
     "metadata": {},
     "output_type": "execute_result"
    },
    {
     "data": {
      "text/plain": [
       "Index(['Unnamed: 0', 'title', 'text', 'label'], dtype='object')"
      ]
     },
     "execution_count": 3,
     "metadata": {},
     "output_type": "execute_result"
    },
    {
     "data": {
      "text/plain": [
       "Index(['content', 'class', 'source', 'file_name'], dtype='object')"
      ]
     },
     "execution_count": 3,
     "metadata": {},
     "output_type": "execute_result"
    },
    {
     "data": {
      "text/plain": [
       "Index(['content', 'class', 'source', 'file_name'], dtype='object')"
      ]
     },
     "execution_count": 3,
     "metadata": {},
     "output_type": "execute_result"
    }
   ],
   "source": [
    "buzz.columns\n",
    "kaggle.columns\n",
    "news.columns\n",
    "celebrity.columns"
   ]
  },
  {
   "cell_type": "markdown",
   "metadata": {},
   "source": [
    "#### Column differences\n",
    "We'll need to work around the differences in columns. While I'd rather have the publisher, source, author - some of our data just isn't good enough to do that. \n",
    "\n",
    "We'll just keep the normal format of the buzzfeed [title, author, text, url, label] and force all the data to adopt that format."
   ]
  },
  {
   "cell_type": "code",
   "execution_count": 4,
   "metadata": {},
   "outputs": [
    {
     "data": {
      "text/plain": [
       "mostly true                  1264\n",
       "mixture of true and false     212\n",
       "mostly false                   87\n",
       "no factual content             64\n",
       "Name: veracity, dtype: int64"
      ]
     },
     "execution_count": 4,
     "metadata": {},
     "output_type": "execute_result"
    },
    {
     "data": {
      "text/plain": [
       "REAL    3171\n",
       "FAKE    3164\n",
       "Name: label, dtype: int64"
      ]
     },
     "execution_count": 4,
     "metadata": {},
     "output_type": "execute_result"
    },
    {
     "data": {
      "text/plain": [
       "legit    240\n",
       "fake     240\n",
       "Name: class, dtype: int64"
      ]
     },
     "execution_count": 4,
     "metadata": {},
     "output_type": "execute_result"
    },
    {
     "data": {
      "text/plain": [
       "legit    250\n",
       "fake     250\n",
       "Name: class, dtype: int64"
      ]
     },
     "execution_count": 4,
     "metadata": {},
     "output_type": "execute_result"
    }
   ],
   "source": [
    "buzz['veracity'].value_counts()\n",
    "kaggle['label'].value_counts()\n",
    "news['class'].value_counts()\n",
    "celebrity['class'].value_counts()"
   ]
  },
  {
   "cell_type": "markdown",
   "metadata": {},
   "source": [
    "#### Modifying Kaggle Data"
   ]
  },
  {
   "cell_type": "code",
   "execution_count": 5,
   "metadata": {},
   "outputs": [],
   "source": [
    "kaggle['author'], kaggle['url'] = np.nan, np.nan\n",
    "kaggle = kaggle.drop('Unnamed: 0', axis=1)\n",
    "kaggle = kaggle[['title', 'author', 'text', 'url', 'label']]\n",
    "kaggle['dataset'] = 'Risdal-McIntire'"
   ]
  },
  {
   "cell_type": "code",
   "execution_count": 6,
   "metadata": {},
   "outputs": [
    {
     "data": {
      "text/html": [
       "<div>\n",
       "<style scoped>\n",
       "    .dataframe tbody tr th:only-of-type {\n",
       "        vertical-align: middle;\n",
       "    }\n",
       "\n",
       "    .dataframe tbody tr th {\n",
       "        vertical-align: top;\n",
       "    }\n",
       "\n",
       "    .dataframe thead th {\n",
       "        text-align: right;\n",
       "    }\n",
       "</style>\n",
       "<table border=\"1\" class=\"dataframe\">\n",
       "  <thead>\n",
       "    <tr style=\"text-align: right;\">\n",
       "      <th></th>\n",
       "      <th>title</th>\n",
       "      <th>author</th>\n",
       "      <th>text</th>\n",
       "      <th>url</th>\n",
       "      <th>label</th>\n",
       "      <th>dataset</th>\n",
       "    </tr>\n",
       "  </thead>\n",
       "  <tbody>\n",
       "    <tr>\n",
       "      <th>0</th>\n",
       "      <td>You Can Smell Hillary’s Fear</td>\n",
       "      <td>NaN</td>\n",
       "      <td>Daniel Greenfield, a Shillman Journalism Fello...</td>\n",
       "      <td>NaN</td>\n",
       "      <td>FAKE</td>\n",
       "      <td>Risdal-McIntire</td>\n",
       "    </tr>\n",
       "    <tr>\n",
       "      <th>1</th>\n",
       "      <td>Watch The Exact Moment Paul Ryan Committed Pol...</td>\n",
       "      <td>NaN</td>\n",
       "      <td>Google Pinterest Digg Linkedin Reddit Stumbleu...</td>\n",
       "      <td>NaN</td>\n",
       "      <td>FAKE</td>\n",
       "      <td>Risdal-McIntire</td>\n",
       "    </tr>\n",
       "    <tr>\n",
       "      <th>2</th>\n",
       "      <td>Kerry to go to Paris in gesture of sympathy</td>\n",
       "      <td>NaN</td>\n",
       "      <td>U.S. Secretary of State John F. Kerry said Mon...</td>\n",
       "      <td>NaN</td>\n",
       "      <td>REAL</td>\n",
       "      <td>Risdal-McIntire</td>\n",
       "    </tr>\n",
       "    <tr>\n",
       "      <th>3</th>\n",
       "      <td>Bernie supporters on Twitter erupt in anger ag...</td>\n",
       "      <td>NaN</td>\n",
       "      <td>— Kaydee King (@KaydeeKing) November 9, 2016 T...</td>\n",
       "      <td>NaN</td>\n",
       "      <td>FAKE</td>\n",
       "      <td>Risdal-McIntire</td>\n",
       "    </tr>\n",
       "    <tr>\n",
       "      <th>4</th>\n",
       "      <td>The Battle of New York: Why This Primary Matters</td>\n",
       "      <td>NaN</td>\n",
       "      <td>It's primary day in New York and front-runners...</td>\n",
       "      <td>NaN</td>\n",
       "      <td>REAL</td>\n",
       "      <td>Risdal-McIntire</td>\n",
       "    </tr>\n",
       "  </tbody>\n",
       "</table>\n",
       "</div>"
      ],
      "text/plain": [
       "                                               title  author  \\\n",
       "0                       You Can Smell Hillary’s Fear     NaN   \n",
       "1  Watch The Exact Moment Paul Ryan Committed Pol...     NaN   \n",
       "2        Kerry to go to Paris in gesture of sympathy     NaN   \n",
       "3  Bernie supporters on Twitter erupt in anger ag...     NaN   \n",
       "4   The Battle of New York: Why This Primary Matters     NaN   \n",
       "\n",
       "                                                text  url label  \\\n",
       "0  Daniel Greenfield, a Shillman Journalism Fello...  NaN  FAKE   \n",
       "1  Google Pinterest Digg Linkedin Reddit Stumbleu...  NaN  FAKE   \n",
       "2  U.S. Secretary of State John F. Kerry said Mon...  NaN  REAL   \n",
       "3  — Kaydee King (@KaydeeKing) November 9, 2016 T...  NaN  FAKE   \n",
       "4  It's primary day in New York and front-runners...  NaN  REAL   \n",
       "\n",
       "           dataset  \n",
       "0  Risdal-McIntire  \n",
       "1  Risdal-McIntire  \n",
       "2  Risdal-McIntire  \n",
       "3  Risdal-McIntire  \n",
       "4  Risdal-McIntire  "
      ]
     },
     "execution_count": 6,
     "metadata": {},
     "output_type": "execute_result"
    }
   ],
   "source": [
    "kaggle.head()"
   ]
  },
  {
   "cell_type": "markdown",
   "metadata": {},
   "source": [
    "#### Modifying Buzzfeed Data"
   ]
  },
  {
   "cell_type": "code",
   "execution_count": 7,
   "metadata": {},
   "outputs": [],
   "source": [
    "buzz.rename(columns = {'veracity': 'label'}, inplace=True)\n",
    "buzz['dataset'] = 'Buzzfeed'"
   ]
  },
  {
   "cell_type": "code",
   "execution_count": 8,
   "metadata": {},
   "outputs": [
    {
     "data": {
      "text/html": [
       "<div>\n",
       "<style scoped>\n",
       "    .dataframe tbody tr th:only-of-type {\n",
       "        vertical-align: middle;\n",
       "    }\n",
       "\n",
       "    .dataframe tbody tr th {\n",
       "        vertical-align: top;\n",
       "    }\n",
       "\n",
       "    .dataframe thead th {\n",
       "        text-align: right;\n",
       "    }\n",
       "</style>\n",
       "<table border=\"1\" class=\"dataframe\">\n",
       "  <thead>\n",
       "    <tr style=\"text-align: right;\">\n",
       "      <th></th>\n",
       "      <th>title</th>\n",
       "      <th>author</th>\n",
       "      <th>text</th>\n",
       "      <th>url</th>\n",
       "      <th>label</th>\n",
       "      <th>dataset</th>\n",
       "    </tr>\n",
       "  </thead>\n",
       "  <tbody>\n",
       "    <tr>\n",
       "      <th>0</th>\n",
       "      <td>The Impact of Debates? It's Debatable</td>\n",
       "      <td>GARY LANGER</td>\n",
       "      <td>With the Hillary Clinton-Donald Trump debates ...</td>\n",
       "      <td>http://abcnews.go.com/Politics/impact-debates-...</td>\n",
       "      <td>mostly true</td>\n",
       "      <td>Buzzfeed</td>\n",
       "    </tr>\n",
       "    <tr>\n",
       "      <th>1</th>\n",
       "      <td>Details Emerge About NYC Bomb Suspect Ahmad Kh...</td>\n",
       "      <td>Brian Ross Rhonda Schwartz Mike Levine Stephan...</td>\n",
       "      <td>As police today captured the man wanted for qu...</td>\n",
       "      <td>http://abcnews.go.com/US/source-suspect-wanted...</td>\n",
       "      <td>mostly true</td>\n",
       "      <td>Buzzfeed</td>\n",
       "    </tr>\n",
       "    <tr>\n",
       "      <th>2</th>\n",
       "      <td>Donald Trump Repeats Calls for Police Profilin...</td>\n",
       "      <td>ALANA ABRAMSON</td>\n",
       "      <td>One day after explosive devices were discovere...</td>\n",
       "      <td>http://abcnews.go.com/Politics/donald-trump-re...</td>\n",
       "      <td>mostly true</td>\n",
       "      <td>Buzzfeed</td>\n",
       "    </tr>\n",
       "    <tr>\n",
       "      <th>3</th>\n",
       "      <td>NY, NJ Bombings Suspect Charged With Attempted...</td>\n",
       "      <td>EMILY SHAPIRO Aaron Katersky Josh Margolin Mik...</td>\n",
       "      <td>Ahmad Khan Rahami, earlier named a person of i...</td>\n",
       "      <td>http://abcnews.go.com/US/bombing-incidences-ny...</td>\n",
       "      <td>mostly true</td>\n",
       "      <td>Buzzfeed</td>\n",
       "    </tr>\n",
       "    <tr>\n",
       "      <th>4</th>\n",
       "      <td>Trump Surrogates Push Narrative That Clinton S...</td>\n",
       "      <td>Candace Smith</td>\n",
       "      <td>Donald Trump's surrogates and leading supporte...</td>\n",
       "      <td>http://abcnews.go.com/Politics/trump-surrogate...</td>\n",
       "      <td>mostly true</td>\n",
       "      <td>Buzzfeed</td>\n",
       "    </tr>\n",
       "  </tbody>\n",
       "</table>\n",
       "</div>"
      ],
      "text/plain": [
       "                                               title  \\\n",
       "0              The Impact of Debates? It's Debatable   \n",
       "1  Details Emerge About NYC Bomb Suspect Ahmad Kh...   \n",
       "2  Donald Trump Repeats Calls for Police Profilin...   \n",
       "3  NY, NJ Bombings Suspect Charged With Attempted...   \n",
       "4  Trump Surrogates Push Narrative That Clinton S...   \n",
       "\n",
       "                                              author  \\\n",
       "0                                        GARY LANGER   \n",
       "1  Brian Ross Rhonda Schwartz Mike Levine Stephan...   \n",
       "2                                     ALANA ABRAMSON   \n",
       "3  EMILY SHAPIRO Aaron Katersky Josh Margolin Mik...   \n",
       "4                                      Candace Smith   \n",
       "\n",
       "                                                text  \\\n",
       "0  With the Hillary Clinton-Donald Trump debates ...   \n",
       "1  As police today captured the man wanted for qu...   \n",
       "2  One day after explosive devices were discovere...   \n",
       "3  Ahmad Khan Rahami, earlier named a person of i...   \n",
       "4  Donald Trump's surrogates and leading supporte...   \n",
       "\n",
       "                                                 url        label   dataset  \n",
       "0  http://abcnews.go.com/Politics/impact-debates-...  mostly true  Buzzfeed  \n",
       "1  http://abcnews.go.com/US/source-suspect-wanted...  mostly true  Buzzfeed  \n",
       "2  http://abcnews.go.com/Politics/donald-trump-re...  mostly true  Buzzfeed  \n",
       "3  http://abcnews.go.com/US/bombing-incidences-ny...  mostly true  Buzzfeed  \n",
       "4  http://abcnews.go.com/Politics/trump-surrogate...  mostly true  Buzzfeed  "
      ]
     },
     "execution_count": 8,
     "metadata": {},
     "output_type": "execute_result"
    }
   ],
   "source": [
    "buzz.head()"
   ]
  },
  {
   "cell_type": "markdown",
   "metadata": {},
   "source": [
    "#### Modifying the news/celebrity data from Veronica 2017"
   ]
  },
  {
   "cell_type": "code",
   "execution_count": 9,
   "metadata": {},
   "outputs": [],
   "source": [
    "news.rename(columns = {'content': 'text', 'class': 'label', 'file_name':'url'}, inplace=True)\n",
    "celebrity.rename(columns = {'content': 'text', 'class': 'label', 'file_name':'url'}, inplace=True)\n",
    "news['title'], news['author'], celebrity['title'], celebrity['author'] = np.nan, np.nan, np.nan, np.nan\n",
    "news, celebrity = news[['title', 'author', 'text', 'url', 'label']], celebrity[['title', 'author', 'text', 'url', 'label']]\n",
    "\n",
    "news['dataset'] = 'Rosas-News'\n",
    "celebrity['dataset'] = 'Rosas-Celebrity'"
   ]
  },
  {
   "cell_type": "code",
   "execution_count": 10,
   "metadata": {},
   "outputs": [
    {
     "data": {
      "text/html": [
       "<div>\n",
       "<style scoped>\n",
       "    .dataframe tbody tr th:only-of-type {\n",
       "        vertical-align: middle;\n",
       "    }\n",
       "\n",
       "    .dataframe tbody tr th {\n",
       "        vertical-align: top;\n",
       "    }\n",
       "\n",
       "    .dataframe thead th {\n",
       "        text-align: right;\n",
       "    }\n",
       "</style>\n",
       "<table border=\"1\" class=\"dataframe\">\n",
       "  <thead>\n",
       "    <tr style=\"text-align: right;\">\n",
       "      <th></th>\n",
       "      <th>title</th>\n",
       "      <th>author</th>\n",
       "      <th>text</th>\n",
       "      <th>url</th>\n",
       "      <th>label</th>\n",
       "      <th>dataset</th>\n",
       "    </tr>\n",
       "  </thead>\n",
       "  <tbody>\n",
       "    <tr>\n",
       "      <th>0</th>\n",
       "      <td>NaN</td>\n",
       "      <td>NaN</td>\n",
       "      <td>Alex Jones Vindicated in \"Pizzagate\" Controver...</td>\n",
       "      <td>biz01.fake.txt</td>\n",
       "      <td>fake</td>\n",
       "      <td>Rosas-News</td>\n",
       "    </tr>\n",
       "    <tr>\n",
       "      <th>1</th>\n",
       "      <td>NaN</td>\n",
       "      <td>NaN</td>\n",
       "      <td>THE BIG DATA CONSPIRACYGovernment and Silicon ...</td>\n",
       "      <td>biz02.fake.txt</td>\n",
       "      <td>fake</td>\n",
       "      <td>Rosas-News</td>\n",
       "    </tr>\n",
       "    <tr>\n",
       "      <th>2</th>\n",
       "      <td>NaN</td>\n",
       "      <td>NaN</td>\n",
       "      <td>California Surprisingly Lenient on Auto Emissi...</td>\n",
       "      <td>biz03.fake.txt</td>\n",
       "      <td>fake</td>\n",
       "      <td>Rosas-News</td>\n",
       "    </tr>\n",
       "    <tr>\n",
       "      <th>3</th>\n",
       "      <td>NaN</td>\n",
       "      <td>NaN</td>\n",
       "      <td>Mexicans Are Chomping at the Bit to Stop NAFTA...</td>\n",
       "      <td>biz04.fake.txt</td>\n",
       "      <td>fake</td>\n",
       "      <td>Rosas-News</td>\n",
       "    </tr>\n",
       "    <tr>\n",
       "      <th>4</th>\n",
       "      <td>NaN</td>\n",
       "      <td>NaN</td>\n",
       "      <td>Breaking News: Snapchat to purchase Twitter fo...</td>\n",
       "      <td>biz05.fake.txt</td>\n",
       "      <td>fake</td>\n",
       "      <td>Rosas-News</td>\n",
       "    </tr>\n",
       "  </tbody>\n",
       "</table>\n",
       "</div>"
      ],
      "text/plain": [
       "   title  author                                               text  \\\n",
       "0    NaN     NaN  Alex Jones Vindicated in \"Pizzagate\" Controver...   \n",
       "1    NaN     NaN  THE BIG DATA CONSPIRACYGovernment and Silicon ...   \n",
       "2    NaN     NaN  California Surprisingly Lenient on Auto Emissi...   \n",
       "3    NaN     NaN  Mexicans Are Chomping at the Bit to Stop NAFTA...   \n",
       "4    NaN     NaN  Breaking News: Snapchat to purchase Twitter fo...   \n",
       "\n",
       "              url label     dataset  \n",
       "0  biz01.fake.txt  fake  Rosas-News  \n",
       "1  biz02.fake.txt  fake  Rosas-News  \n",
       "2  biz03.fake.txt  fake  Rosas-News  \n",
       "3  biz04.fake.txt  fake  Rosas-News  \n",
       "4  biz05.fake.txt  fake  Rosas-News  "
      ]
     },
     "execution_count": 10,
     "metadata": {},
     "output_type": "execute_result"
    },
    {
     "data": {
      "text/html": [
       "<div>\n",
       "<style scoped>\n",
       "    .dataframe tbody tr th:only-of-type {\n",
       "        vertical-align: middle;\n",
       "    }\n",
       "\n",
       "    .dataframe tbody tr th {\n",
       "        vertical-align: top;\n",
       "    }\n",
       "\n",
       "    .dataframe thead th {\n",
       "        text-align: right;\n",
       "    }\n",
       "</style>\n",
       "<table border=\"1\" class=\"dataframe\">\n",
       "  <thead>\n",
       "    <tr style=\"text-align: right;\">\n",
       "      <th></th>\n",
       "      <th>title</th>\n",
       "      <th>author</th>\n",
       "      <th>text</th>\n",
       "      <th>url</th>\n",
       "      <th>label</th>\n",
       "      <th>dataset</th>\n",
       "    </tr>\n",
       "  </thead>\n",
       "  <tbody>\n",
       "    <tr>\n",
       "      <th>0</th>\n",
       "      <td>NaN</td>\n",
       "      <td>NaN</td>\n",
       "      <td>JENNIFER ANISTON HINTS AT FRIENDS REUNIONJenni...</td>\n",
       "      <td>001fake.txt</td>\n",
       "      <td>fake</td>\n",
       "      <td>Rosas-Celebrity</td>\n",
       "    </tr>\n",
       "    <tr>\n",
       "      <th>1</th>\n",
       "      <td>NaN</td>\n",
       "      <td>NaN</td>\n",
       "      <td>Brad Pitt Texts Jennifer Aniston Nonstop: Seek...</td>\n",
       "      <td>002fake.txt</td>\n",
       "      <td>fake</td>\n",
       "      <td>Rosas-Celebrity</td>\n",
       "    </tr>\n",
       "    <tr>\n",
       "      <th>2</th>\n",
       "      <td>NaN</td>\n",
       "      <td>NaN</td>\n",
       "      <td>Jennifer Aniston Pregnant With 'Miracle Baby' ...</td>\n",
       "      <td>003fake.txt</td>\n",
       "      <td>fake</td>\n",
       "      <td>Rosas-Celebrity</td>\n",
       "    </tr>\n",
       "    <tr>\n",
       "      <th>3</th>\n",
       "      <td>NaN</td>\n",
       "      <td>NaN</td>\n",
       "      <td>Heartbroken Jennifer Aniston Runs For The Bord...</td>\n",
       "      <td>004fake.txt</td>\n",
       "      <td>fake</td>\n",
       "      <td>Rosas-Celebrity</td>\n",
       "    </tr>\n",
       "    <tr>\n",
       "      <th>4</th>\n",
       "      <td>NaN</td>\n",
       "      <td>NaN</td>\n",
       "      <td>Jennifer Aniston Cheated On Brad Pitt With Mat...</td>\n",
       "      <td>005fake.txt</td>\n",
       "      <td>fake</td>\n",
       "      <td>Rosas-Celebrity</td>\n",
       "    </tr>\n",
       "  </tbody>\n",
       "</table>\n",
       "</div>"
      ],
      "text/plain": [
       "   title  author                                               text  \\\n",
       "0    NaN     NaN  JENNIFER ANISTON HINTS AT FRIENDS REUNIONJenni...   \n",
       "1    NaN     NaN  Brad Pitt Texts Jennifer Aniston Nonstop: Seek...   \n",
       "2    NaN     NaN  Jennifer Aniston Pregnant With 'Miracle Baby' ...   \n",
       "3    NaN     NaN  Heartbroken Jennifer Aniston Runs For The Bord...   \n",
       "4    NaN     NaN  Jennifer Aniston Cheated On Brad Pitt With Mat...   \n",
       "\n",
       "           url label          dataset  \n",
       "0  001fake.txt  fake  Rosas-Celebrity  \n",
       "1  002fake.txt  fake  Rosas-Celebrity  \n",
       "2  003fake.txt  fake  Rosas-Celebrity  \n",
       "3  004fake.txt  fake  Rosas-Celebrity  \n",
       "4  005fake.txt  fake  Rosas-Celebrity  "
      ]
     },
     "execution_count": 10,
     "metadata": {},
     "output_type": "execute_result"
    }
   ],
   "source": [
    "news.head()\n",
    "celebrity.head()"
   ]
  },
  {
   "cell_type": "code",
   "execution_count": 11,
   "metadata": {},
   "outputs": [
    {
     "data": {
      "text/plain": [
       "'Uber to open new headquarters in Denmark despite new lawsDespite the introduction of new taxi laws in Denmark the Uber has said this is not a setback for the US ride-booking service in Eurpoe. A company spokesman Kristian Agerbo said on Tuesday Uber \"must take the consequences\" of the rules, which among other things will require cabs to be fitted with seat occupancy sensors and fare meters, and pass it on to the drivers. Uber ordered a new fleet of self-driving cars following Arizona crash to be created and tested to comply with these new laws. Uber has not faced problems in cities like Madrid Frankfurt Paris and London has long been lauded as the transportations service of the digital age. They plan to mass produce these new sensors and meters and offer them to their drivers on a rental basis to add to their profit lines. Depending on success they may be made available to other driving companies as well.'"
      ]
     },
     "execution_count": 11,
     "metadata": {},
     "output_type": "execute_result"
    }
   ],
   "source": [
    "news['text'][9]"
   ]
  },
  {
   "cell_type": "code",
   "execution_count": null,
   "metadata": {},
   "outputs": [],
   "source": []
  },
  {
   "cell_type": "code",
   "execution_count": null,
   "metadata": {},
   "outputs": [],
   "source": []
  },
  {
   "cell_type": "markdown",
   "metadata": {},
   "source": [
    "#### Concatenating the separate datasets "
   ]
  },
  {
   "cell_type": "code",
   "execution_count": 12,
   "metadata": {},
   "outputs": [
    {
     "data": {
      "text/html": [
       "<div>\n",
       "<style scoped>\n",
       "    .dataframe tbody tr th:only-of-type {\n",
       "        vertical-align: middle;\n",
       "    }\n",
       "\n",
       "    .dataframe tbody tr th {\n",
       "        vertical-align: top;\n",
       "    }\n",
       "\n",
       "    .dataframe thead th {\n",
       "        text-align: right;\n",
       "    }\n",
       "</style>\n",
       "<table border=\"1\" class=\"dataframe\">\n",
       "  <thead>\n",
       "    <tr style=\"text-align: right;\">\n",
       "      <th></th>\n",
       "      <th>title</th>\n",
       "      <th>author</th>\n",
       "      <th>text</th>\n",
       "      <th>url</th>\n",
       "      <th>label</th>\n",
       "      <th>dataset</th>\n",
       "    </tr>\n",
       "  </thead>\n",
       "  <tbody>\n",
       "    <tr>\n",
       "      <th>0</th>\n",
       "      <td>The Impact of Debates? It's Debatable</td>\n",
       "      <td>GARY LANGER</td>\n",
       "      <td>With the Hillary Clinton-Donald Trump debates ...</td>\n",
       "      <td>http://abcnews.go.com/Politics/impact-debates-...</td>\n",
       "      <td>mostly true</td>\n",
       "      <td>Buzzfeed</td>\n",
       "    </tr>\n",
       "    <tr>\n",
       "      <th>1</th>\n",
       "      <td>Details Emerge About NYC Bomb Suspect Ahmad Kh...</td>\n",
       "      <td>Brian Ross Rhonda Schwartz Mike Levine Stephan...</td>\n",
       "      <td>As police today captured the man wanted for qu...</td>\n",
       "      <td>http://abcnews.go.com/US/source-suspect-wanted...</td>\n",
       "      <td>mostly true</td>\n",
       "      <td>Buzzfeed</td>\n",
       "    </tr>\n",
       "    <tr>\n",
       "      <th>2</th>\n",
       "      <td>Donald Trump Repeats Calls for Police Profilin...</td>\n",
       "      <td>ALANA ABRAMSON</td>\n",
       "      <td>One day after explosive devices were discovere...</td>\n",
       "      <td>http://abcnews.go.com/Politics/donald-trump-re...</td>\n",
       "      <td>mostly true</td>\n",
       "      <td>Buzzfeed</td>\n",
       "    </tr>\n",
       "    <tr>\n",
       "      <th>3</th>\n",
       "      <td>NY, NJ Bombings Suspect Charged With Attempted...</td>\n",
       "      <td>EMILY SHAPIRO Aaron Katersky Josh Margolin Mik...</td>\n",
       "      <td>Ahmad Khan Rahami, earlier named a person of i...</td>\n",
       "      <td>http://abcnews.go.com/US/bombing-incidences-ny...</td>\n",
       "      <td>mostly true</td>\n",
       "      <td>Buzzfeed</td>\n",
       "    </tr>\n",
       "    <tr>\n",
       "      <th>4</th>\n",
       "      <td>Trump Surrogates Push Narrative That Clinton S...</td>\n",
       "      <td>Candace Smith</td>\n",
       "      <td>Donald Trump's surrogates and leading supporte...</td>\n",
       "      <td>http://abcnews.go.com/Politics/trump-surrogate...</td>\n",
       "      <td>mostly true</td>\n",
       "      <td>Buzzfeed</td>\n",
       "    </tr>\n",
       "  </tbody>\n",
       "</table>\n",
       "</div>"
      ],
      "text/plain": [
       "                                               title  \\\n",
       "0              The Impact of Debates? It's Debatable   \n",
       "1  Details Emerge About NYC Bomb Suspect Ahmad Kh...   \n",
       "2  Donald Trump Repeats Calls for Police Profilin...   \n",
       "3  NY, NJ Bombings Suspect Charged With Attempted...   \n",
       "4  Trump Surrogates Push Narrative That Clinton S...   \n",
       "\n",
       "                                              author  \\\n",
       "0                                        GARY LANGER   \n",
       "1  Brian Ross Rhonda Schwartz Mike Levine Stephan...   \n",
       "2                                     ALANA ABRAMSON   \n",
       "3  EMILY SHAPIRO Aaron Katersky Josh Margolin Mik...   \n",
       "4                                      Candace Smith   \n",
       "\n",
       "                                                text  \\\n",
       "0  With the Hillary Clinton-Donald Trump debates ...   \n",
       "1  As police today captured the man wanted for qu...   \n",
       "2  One day after explosive devices were discovere...   \n",
       "3  Ahmad Khan Rahami, earlier named a person of i...   \n",
       "4  Donald Trump's surrogates and leading supporte...   \n",
       "\n",
       "                                                 url        label   dataset  \n",
       "0  http://abcnews.go.com/Politics/impact-debates-...  mostly true  Buzzfeed  \n",
       "1  http://abcnews.go.com/US/source-suspect-wanted...  mostly true  Buzzfeed  \n",
       "2  http://abcnews.go.com/Politics/donald-trump-re...  mostly true  Buzzfeed  \n",
       "3  http://abcnews.go.com/US/bombing-incidences-ny...  mostly true  Buzzfeed  \n",
       "4  http://abcnews.go.com/Politics/trump-surrogate...  mostly true  Buzzfeed  "
      ]
     },
     "execution_count": 12,
     "metadata": {},
     "output_type": "execute_result"
    }
   ],
   "source": [
    "data = pd.concat([buzz, kaggle, news, celebrity])\n",
    "data.head()"
   ]
  },
  {
   "cell_type": "code",
   "execution_count": 13,
   "metadata": {},
   "outputs": [
    {
     "data": {
      "text/plain": [
       "REAL                         3171\n",
       "FAKE                         3164\n",
       "mostly true                  1264\n",
       "legit                         490\n",
       "fake                          490\n",
       "mixture of true and false     212\n",
       "mostly false                   87\n",
       "no factual content             64\n",
       "Name: label, dtype: int64"
      ]
     },
     "execution_count": 13,
     "metadata": {},
     "output_type": "execute_result"
    }
   ],
   "source": [
    "data['label'].value_counts()"
   ]
  },
  {
   "cell_type": "markdown",
   "metadata": {},
   "source": [
    "#### Changing labels\n",
    "This is probably the most important part that we're glossing over for now. But how do we match different ways of defining 'fake'. Each dataset has a slightly different way. The buzzfeed method is great because they define some level of veracity \"mostly, mixture\" etc. But the Mcintire one is just real or fake. \n",
    "\n",
    "We'll come back to this repeatedly, but this is just a first step to get us started."
   ]
  },
  {
   "cell_type": "code",
   "execution_count": 14,
   "metadata": {},
   "outputs": [
    {
     "data": {
      "text/plain": [
       "real                         4925\n",
       "fake                         3805\n",
       "mixture of true and false     212\n",
       "Name: label, dtype: int64"
      ]
     },
     "execution_count": 14,
     "metadata": {},
     "output_type": "execute_result"
    }
   ],
   "source": [
    "data = data.replace(('mostly true', 'legit', 'REAL'), 'real')\n",
    "data = data.replace(('FAKE', 'fake', 'mostly false', 'no factual content'), 'fake')\n",
    "\n",
    "data['label'].value_counts()"
   ]
  },
  {
   "cell_type": "code",
   "execution_count": 15,
   "metadata": {},
   "outputs": [],
   "source": [
    "# data.to_csv('combinedData.csv', index=False)"
   ]
  },
  {
   "cell_type": "markdown",
   "metadata": {},
   "source": [
    "### Adding another dataset from Wang 2018"
   ]
  },
  {
   "cell_type": "code",
   "execution_count": 16,
   "metadata": {},
   "outputs": [
    {
     "data": {
      "text/html": [
       "<div>\n",
       "<style scoped>\n",
       "    .dataframe tbody tr th:only-of-type {\n",
       "        vertical-align: middle;\n",
       "    }\n",
       "\n",
       "    .dataframe tbody tr th {\n",
       "        vertical-align: top;\n",
       "    }\n",
       "\n",
       "    .dataframe thead th {\n",
       "        text-align: right;\n",
       "    }\n",
       "</style>\n",
       "<table border=\"1\" class=\"dataframe\">\n",
       "  <thead>\n",
       "    <tr style=\"text-align: right;\">\n",
       "      <th></th>\n",
       "      <th>title</th>\n",
       "      <th>author</th>\n",
       "      <th>text</th>\n",
       "      <th>url</th>\n",
       "      <th>label</th>\n",
       "      <th>dataset</th>\n",
       "    </tr>\n",
       "  </thead>\n",
       "  <tbody>\n",
       "    <tr>\n",
       "      <th>0</th>\n",
       "      <td>The Impact of Debates? It's Debatable</td>\n",
       "      <td>GARY LANGER</td>\n",
       "      <td>With the Hillary Clinton-Donald Trump debates ...</td>\n",
       "      <td>http://abcnews.go.com/Politics/impact-debates-...</td>\n",
       "      <td>real</td>\n",
       "      <td>Buzzfeed</td>\n",
       "    </tr>\n",
       "    <tr>\n",
       "      <th>1</th>\n",
       "      <td>Details Emerge About NYC Bomb Suspect Ahmad Kh...</td>\n",
       "      <td>Brian Ross Rhonda Schwartz Mike Levine Stephan...</td>\n",
       "      <td>As police today captured the man wanted for qu...</td>\n",
       "      <td>http://abcnews.go.com/US/source-suspect-wanted...</td>\n",
       "      <td>real</td>\n",
       "      <td>Buzzfeed</td>\n",
       "    </tr>\n",
       "    <tr>\n",
       "      <th>2</th>\n",
       "      <td>Donald Trump Repeats Calls for Police Profilin...</td>\n",
       "      <td>ALANA ABRAMSON</td>\n",
       "      <td>One day after explosive devices were discovere...</td>\n",
       "      <td>http://abcnews.go.com/Politics/donald-trump-re...</td>\n",
       "      <td>real</td>\n",
       "      <td>Buzzfeed</td>\n",
       "    </tr>\n",
       "    <tr>\n",
       "      <th>3</th>\n",
       "      <td>NY, NJ Bombings Suspect Charged With Attempted...</td>\n",
       "      <td>EMILY SHAPIRO Aaron Katersky Josh Margolin Mik...</td>\n",
       "      <td>Ahmad Khan Rahami, earlier named a person of i...</td>\n",
       "      <td>http://abcnews.go.com/US/bombing-incidences-ny...</td>\n",
       "      <td>real</td>\n",
       "      <td>Buzzfeed</td>\n",
       "    </tr>\n",
       "    <tr>\n",
       "      <th>4</th>\n",
       "      <td>Trump Surrogates Push Narrative That Clinton S...</td>\n",
       "      <td>Candace Smith</td>\n",
       "      <td>Donald Trump's surrogates and leading supporte...</td>\n",
       "      <td>http://abcnews.go.com/Politics/trump-surrogate...</td>\n",
       "      <td>real</td>\n",
       "      <td>Buzzfeed</td>\n",
       "    </tr>\n",
       "  </tbody>\n",
       "</table>\n",
       "</div>"
      ],
      "text/plain": [
       "                                               title  \\\n",
       "0              The Impact of Debates? It's Debatable   \n",
       "1  Details Emerge About NYC Bomb Suspect Ahmad Kh...   \n",
       "2  Donald Trump Repeats Calls for Police Profilin...   \n",
       "3  NY, NJ Bombings Suspect Charged With Attempted...   \n",
       "4  Trump Surrogates Push Narrative That Clinton S...   \n",
       "\n",
       "                                              author  \\\n",
       "0                                        GARY LANGER   \n",
       "1  Brian Ross Rhonda Schwartz Mike Levine Stephan...   \n",
       "2                                     ALANA ABRAMSON   \n",
       "3  EMILY SHAPIRO Aaron Katersky Josh Margolin Mik...   \n",
       "4                                      Candace Smith   \n",
       "\n",
       "                                                text  \\\n",
       "0  With the Hillary Clinton-Donald Trump debates ...   \n",
       "1  As police today captured the man wanted for qu...   \n",
       "2  One day after explosive devices were discovere...   \n",
       "3  Ahmad Khan Rahami, earlier named a person of i...   \n",
       "4  Donald Trump's surrogates and leading supporte...   \n",
       "\n",
       "                                                 url label   dataset  \n",
       "0  http://abcnews.go.com/Politics/impact-debates-...  real  Buzzfeed  \n",
       "1  http://abcnews.go.com/US/source-suspect-wanted...  real  Buzzfeed  \n",
       "2  http://abcnews.go.com/Politics/donald-trump-re...  real  Buzzfeed  \n",
       "3  http://abcnews.go.com/US/bombing-incidences-ny...  real  Buzzfeed  \n",
       "4  http://abcnews.go.com/Politics/trump-surrogate...  real  Buzzfeed  "
      ]
     },
     "execution_count": 16,
     "metadata": {},
     "output_type": "execute_result"
    }
   ],
   "source": [
    "data.head()"
   ]
  },
  {
   "cell_type": "code",
   "execution_count": 17,
   "metadata": {},
   "outputs": [],
   "source": [
    "df = pd.read_csv('liar_datasetWang2018/train.tsv', sep='\\t', header=None)\n",
    "df2 = pd.read_csv('liar_datasetWang2018/test.tsv', sep='\\t', header=None)\n",
    "df3 = pd.read_csv('liar_datasetWang2018/valid.tsv', sep='\\t', header=None)\n",
    "\n",
    "df = pd.concat([df, df2, df3])"
   ]
  },
  {
   "cell_type": "code",
   "execution_count": 18,
   "metadata": {},
   "outputs": [],
   "source": [
    "df.columns = ['statement_id', 'label', 'text', 'subject', 'speaker', 'speaker_title', 'state_info', 'party affiliation', 'credit1', 'credit2', 'credit3', 'credit4', 'credit5', 'context']"
   ]
  },
  {
   "cell_type": "code",
   "execution_count": 19,
   "metadata": {},
   "outputs": [],
   "source": [
    "df = df[(df['label'] == 'false') | (df['label'] == 'true') | (df['label'] == 'mostly-true') | (df['label'] == 'mostly-false')]\n",
    "df = df.dropna()\n",
    "df = df.replace(['mostly-true', 'mostly-false'], ['true', 'false'])"
   ]
  },
  {
   "cell_type": "code",
   "execution_count": 20,
   "metadata": {},
   "outputs": [
    {
     "data": {
      "text/html": [
       "<div>\n",
       "<style scoped>\n",
       "    .dataframe tbody tr th:only-of-type {\n",
       "        vertical-align: middle;\n",
       "    }\n",
       "\n",
       "    .dataframe tbody tr th {\n",
       "        vertical-align: top;\n",
       "    }\n",
       "\n",
       "    .dataframe thead th {\n",
       "        text-align: right;\n",
       "    }\n",
       "</style>\n",
       "<table border=\"1\" class=\"dataframe\">\n",
       "  <thead>\n",
       "    <tr style=\"text-align: right;\">\n",
       "      <th></th>\n",
       "      <th>statement_id</th>\n",
       "      <th>label</th>\n",
       "      <th>text</th>\n",
       "      <th>subject</th>\n",
       "      <th>speaker</th>\n",
       "      <th>speaker_title</th>\n",
       "      <th>state_info</th>\n",
       "      <th>party affiliation</th>\n",
       "      <th>credit1</th>\n",
       "      <th>credit2</th>\n",
       "      <th>credit3</th>\n",
       "      <th>credit4</th>\n",
       "      <th>credit5</th>\n",
       "      <th>context</th>\n",
       "    </tr>\n",
       "  </thead>\n",
       "  <tbody>\n",
       "    <tr>\n",
       "      <th>0</th>\n",
       "      <td>2635.json</td>\n",
       "      <td>false</td>\n",
       "      <td>Says the Annies List political group supports ...</td>\n",
       "      <td>abortion</td>\n",
       "      <td>dwayne-bohac</td>\n",
       "      <td>State representative</td>\n",
       "      <td>Texas</td>\n",
       "      <td>republican</td>\n",
       "      <td>0.0</td>\n",
       "      <td>1.0</td>\n",
       "      <td>0.0</td>\n",
       "      <td>0.0</td>\n",
       "      <td>0.0</td>\n",
       "      <td>a mailer</td>\n",
       "    </tr>\n",
       "    <tr>\n",
       "      <th>2</th>\n",
       "      <td>324.json</td>\n",
       "      <td>true</td>\n",
       "      <td>Hillary Clinton agrees with John McCain \"by vo...</td>\n",
       "      <td>foreign-policy</td>\n",
       "      <td>barack-obama</td>\n",
       "      <td>President</td>\n",
       "      <td>Illinois</td>\n",
       "      <td>democrat</td>\n",
       "      <td>70.0</td>\n",
       "      <td>71.0</td>\n",
       "      <td>160.0</td>\n",
       "      <td>163.0</td>\n",
       "      <td>9.0</td>\n",
       "      <td>Denver</td>\n",
       "    </tr>\n",
       "    <tr>\n",
       "      <th>5</th>\n",
       "      <td>12465.json</td>\n",
       "      <td>true</td>\n",
       "      <td>The Chicago Bears have had more starting quart...</td>\n",
       "      <td>education</td>\n",
       "      <td>robin-vos</td>\n",
       "      <td>Wisconsin Assembly speaker</td>\n",
       "      <td>Wisconsin</td>\n",
       "      <td>republican</td>\n",
       "      <td>0.0</td>\n",
       "      <td>3.0</td>\n",
       "      <td>2.0</td>\n",
       "      <td>5.0</td>\n",
       "      <td>1.0</td>\n",
       "      <td>a an online opinion-piece</td>\n",
       "    </tr>\n",
       "    <tr>\n",
       "      <th>9</th>\n",
       "      <td>9741.json</td>\n",
       "      <td>true</td>\n",
       "      <td>Says GOP primary opponents Glenn Grothman and ...</td>\n",
       "      <td>energy,message-machine-2014,voting-record</td>\n",
       "      <td>duey-stroebel</td>\n",
       "      <td>State representative</td>\n",
       "      <td>Wisconsin</td>\n",
       "      <td>republican</td>\n",
       "      <td>0.0</td>\n",
       "      <td>0.0</td>\n",
       "      <td>0.0</td>\n",
       "      <td>1.0</td>\n",
       "      <td>0.0</td>\n",
       "      <td>an online video</td>\n",
       "    </tr>\n",
       "    <tr>\n",
       "      <th>10</th>\n",
       "      <td>7115.json</td>\n",
       "      <td>true</td>\n",
       "      <td>For the first time in history, the share of th...</td>\n",
       "      <td>elections</td>\n",
       "      <td>robert-menendez</td>\n",
       "      <td>U.S. Senator</td>\n",
       "      <td>New Jersey</td>\n",
       "      <td>democrat</td>\n",
       "      <td>1.0</td>\n",
       "      <td>3.0</td>\n",
       "      <td>1.0</td>\n",
       "      <td>3.0</td>\n",
       "      <td>0.0</td>\n",
       "      <td>a speech</td>\n",
       "    </tr>\n",
       "  </tbody>\n",
       "</table>\n",
       "</div>"
      ],
      "text/plain": [
       "   statement_id  label                                               text  \\\n",
       "0     2635.json  false  Says the Annies List political group supports ...   \n",
       "2      324.json   true  Hillary Clinton agrees with John McCain \"by vo...   \n",
       "5    12465.json   true  The Chicago Bears have had more starting quart...   \n",
       "9     9741.json   true  Says GOP primary opponents Glenn Grothman and ...   \n",
       "10    7115.json   true  For the first time in history, the share of th...   \n",
       "\n",
       "                                      subject          speaker  \\\n",
       "0                                    abortion     dwayne-bohac   \n",
       "2                              foreign-policy     barack-obama   \n",
       "5                                   education        robin-vos   \n",
       "9   energy,message-machine-2014,voting-record    duey-stroebel   \n",
       "10                                  elections  robert-menendez   \n",
       "\n",
       "                 speaker_title  state_info party affiliation  credit1  \\\n",
       "0         State representative       Texas        republican      0.0   \n",
       "2                    President    Illinois          democrat     70.0   \n",
       "5   Wisconsin Assembly speaker   Wisconsin        republican      0.0   \n",
       "9         State representative   Wisconsin        republican      0.0   \n",
       "10                U.S. Senator  New Jersey          democrat      1.0   \n",
       "\n",
       "    credit2  credit3  credit4  credit5                    context  \n",
       "0       1.0      0.0      0.0      0.0                   a mailer  \n",
       "2      71.0    160.0    163.0      9.0                     Denver  \n",
       "5       3.0      2.0      5.0      1.0  a an online opinion-piece  \n",
       "9       0.0      0.0      1.0      0.0            an online video  \n",
       "10      3.0      1.0      3.0      0.0                   a speech  "
      ]
     },
     "execution_count": 20,
     "metadata": {},
     "output_type": "execute_result"
    }
   ],
   "source": [
    "df.head()"
   ]
  },
  {
   "cell_type": "code",
   "execution_count": 21,
   "metadata": {},
   "outputs": [
    {
     "data": {
      "text/plain": [
       "4783"
      ]
     },
     "execution_count": 21,
     "metadata": {},
     "output_type": "execute_result"
    },
    {
     "data": {
      "text/plain": [
       "Index(['title', 'author', 'text', 'url', 'label', 'dataset'], dtype='object')"
      ]
     },
     "execution_count": 21,
     "metadata": {},
     "output_type": "execute_result"
    }
   ],
   "source": [
    "len(df)\n",
    "data.columns"
   ]
  },
  {
   "cell_type": "code",
   "execution_count": 22,
   "metadata": {},
   "outputs": [],
   "source": [
    "df2 = df[['speaker_title', 'speaker', 'text', 'context', 'label']]"
   ]
  },
  {
   "cell_type": "code",
   "execution_count": 23,
   "metadata": {},
   "outputs": [
    {
     "data": {
      "text/html": [
       "<div>\n",
       "<style scoped>\n",
       "    .dataframe tbody tr th:only-of-type {\n",
       "        vertical-align: middle;\n",
       "    }\n",
       "\n",
       "    .dataframe tbody tr th {\n",
       "        vertical-align: top;\n",
       "    }\n",
       "\n",
       "    .dataframe thead th {\n",
       "        text-align: right;\n",
       "    }\n",
       "</style>\n",
       "<table border=\"1\" class=\"dataframe\">\n",
       "  <thead>\n",
       "    <tr style=\"text-align: right;\">\n",
       "      <th></th>\n",
       "      <th>speaker_title</th>\n",
       "      <th>speaker</th>\n",
       "      <th>text</th>\n",
       "      <th>context</th>\n",
       "      <th>label</th>\n",
       "    </tr>\n",
       "  </thead>\n",
       "  <tbody>\n",
       "    <tr>\n",
       "      <th>0</th>\n",
       "      <td>State representative</td>\n",
       "      <td>dwayne-bohac</td>\n",
       "      <td>Says the Annies List political group supports ...</td>\n",
       "      <td>a mailer</td>\n",
       "      <td>false</td>\n",
       "    </tr>\n",
       "    <tr>\n",
       "      <th>2</th>\n",
       "      <td>President</td>\n",
       "      <td>barack-obama</td>\n",
       "      <td>Hillary Clinton agrees with John McCain \"by vo...</td>\n",
       "      <td>Denver</td>\n",
       "      <td>true</td>\n",
       "    </tr>\n",
       "    <tr>\n",
       "      <th>5</th>\n",
       "      <td>Wisconsin Assembly speaker</td>\n",
       "      <td>robin-vos</td>\n",
       "      <td>The Chicago Bears have had more starting quart...</td>\n",
       "      <td>a an online opinion-piece</td>\n",
       "      <td>true</td>\n",
       "    </tr>\n",
       "    <tr>\n",
       "      <th>9</th>\n",
       "      <td>State representative</td>\n",
       "      <td>duey-stroebel</td>\n",
       "      <td>Says GOP primary opponents Glenn Grothman and ...</td>\n",
       "      <td>an online video</td>\n",
       "      <td>true</td>\n",
       "    </tr>\n",
       "    <tr>\n",
       "      <th>10</th>\n",
       "      <td>U.S. Senator</td>\n",
       "      <td>robert-menendez</td>\n",
       "      <td>For the first time in history, the share of th...</td>\n",
       "      <td>a speech</td>\n",
       "      <td>true</td>\n",
       "    </tr>\n",
       "  </tbody>\n",
       "</table>\n",
       "</div>"
      ],
      "text/plain": [
       "                 speaker_title          speaker  \\\n",
       "0         State representative     dwayne-bohac   \n",
       "2                    President     barack-obama   \n",
       "5   Wisconsin Assembly speaker        robin-vos   \n",
       "9         State representative    duey-stroebel   \n",
       "10                U.S. Senator  robert-menendez   \n",
       "\n",
       "                                                 text  \\\n",
       "0   Says the Annies List political group supports ...   \n",
       "2   Hillary Clinton agrees with John McCain \"by vo...   \n",
       "5   The Chicago Bears have had more starting quart...   \n",
       "9   Says GOP primary opponents Glenn Grothman and ...   \n",
       "10  For the first time in history, the share of th...   \n",
       "\n",
       "                      context  label  \n",
       "0                    a mailer  false  \n",
       "2                      Denver   true  \n",
       "5   a an online opinion-piece   true  \n",
       "9             an online video   true  \n",
       "10                   a speech   true  "
      ]
     },
     "execution_count": 23,
     "metadata": {},
     "output_type": "execute_result"
    }
   ],
   "source": [
    "df2.head()"
   ]
  },
  {
   "cell_type": "markdown",
   "metadata": {},
   "source": [
    "### Sample the Wang dataset\n",
    "With around 5000 rows, this single statement would be overrepresented in our data. We reduce by random sampling 2500 rows instead"
   ]
  },
  {
   "cell_type": "code",
   "execution_count": 24,
   "metadata": {},
   "outputs": [],
   "source": [
    "df3 = df2[df2['label'] == 'false'].sample(n=1250)\n",
    "df4 = df2[df2['label'] == 'true'].sample(n=1250)\n",
    "\n",
    "# concatenate and reset index\n",
    "df5 = pd.concat([df3, df4])\n",
    "df5 = df5.reset_index(drop=True)\n",
    "\n",
    "# Rename columns\n",
    "df5.columns = ['title', 'author', 'text', 'url', 'label']\n",
    "\n",
    "# Add in the dataset name for valdiation later\n",
    "df5['dataset'] = 'Wang-PolitiFact'\n",
    "\n",
    "df5 = df5.replace(['true', 'false'], ['real', 'fake'])"
   ]
  },
  {
   "cell_type": "code",
   "execution_count": 25,
   "metadata": {},
   "outputs": [
    {
     "data": {
      "text/plain": [
       "fake    1250\n",
       "real    1250\n",
       "Name: label, dtype: int64"
      ]
     },
     "execution_count": 25,
     "metadata": {},
     "output_type": "execute_result"
    }
   ],
   "source": [
    "df5['label'].value_counts()"
   ]
  },
  {
   "cell_type": "markdown",
   "metadata": {},
   "source": [
    "### Combine datasets"
   ]
  },
  {
   "cell_type": "code",
   "execution_count": 30,
   "metadata": {},
   "outputs": [
    {
     "data": {
      "text/plain": [
       "11442"
      ]
     },
     "execution_count": 30,
     "metadata": {},
     "output_type": "execute_result"
    },
    {
     "data": {
      "text/plain": [
       "real                         6175\n",
       "fake                         5055\n",
       "mixture of true and false     212\n",
       "Name: label, dtype: int64"
      ]
     },
     "execution_count": 30,
     "metadata": {},
     "output_type": "execute_result"
    },
    {
     "data": {
      "text/plain": [
       "Risdal-McIntire    6335\n",
       "Wang-PolitiFact    2500\n",
       "Buzzfeed           1627\n",
       "Rosas-Celebrity     500\n",
       "Rosas-News          480\n",
       "Name: dataset, dtype: int64"
      ]
     },
     "execution_count": 30,
     "metadata": {},
     "output_type": "execute_result"
    }
   ],
   "source": [
    "df6 = pd.concat([data, df5])\n",
    "\n",
    "# Reorder the columns\n",
    "df6 = df6[['dataset', 'title', 'author', 'text', 'url', 'label']]\n",
    "\n",
    "len(df6)\n",
    "df6['label'].value_counts()\n",
    "df6['dataset'].value_counts()"
   ]
  },
  {
   "cell_type": "code",
   "execution_count": 31,
   "metadata": {},
   "outputs": [
    {
     "data": {
      "text/html": [
       "<div>\n",
       "<style scoped>\n",
       "    .dataframe tbody tr th:only-of-type {\n",
       "        vertical-align: middle;\n",
       "    }\n",
       "\n",
       "    .dataframe tbody tr th {\n",
       "        vertical-align: top;\n",
       "    }\n",
       "\n",
       "    .dataframe thead th {\n",
       "        text-align: right;\n",
       "    }\n",
       "</style>\n",
       "<table border=\"1\" class=\"dataframe\">\n",
       "  <thead>\n",
       "    <tr style=\"text-align: right;\">\n",
       "      <th></th>\n",
       "      <th>dataset</th>\n",
       "      <th>title</th>\n",
       "      <th>author</th>\n",
       "      <th>text</th>\n",
       "      <th>url</th>\n",
       "      <th>label</th>\n",
       "    </tr>\n",
       "  </thead>\n",
       "  <tbody>\n",
       "    <tr>\n",
       "      <th>0</th>\n",
       "      <td>Buzzfeed</td>\n",
       "      <td>The Impact of Debates? It's Debatable</td>\n",
       "      <td>GARY LANGER</td>\n",
       "      <td>With the Hillary Clinton-Donald Trump debates ...</td>\n",
       "      <td>http://abcnews.go.com/Politics/impact-debates-...</td>\n",
       "      <td>real</td>\n",
       "    </tr>\n",
       "    <tr>\n",
       "      <th>1</th>\n",
       "      <td>Buzzfeed</td>\n",
       "      <td>Details Emerge About NYC Bomb Suspect Ahmad Kh...</td>\n",
       "      <td>Brian Ross Rhonda Schwartz Mike Levine Stephan...</td>\n",
       "      <td>As police today captured the man wanted for qu...</td>\n",
       "      <td>http://abcnews.go.com/US/source-suspect-wanted...</td>\n",
       "      <td>real</td>\n",
       "    </tr>\n",
       "    <tr>\n",
       "      <th>2</th>\n",
       "      <td>Buzzfeed</td>\n",
       "      <td>Donald Trump Repeats Calls for Police Profilin...</td>\n",
       "      <td>ALANA ABRAMSON</td>\n",
       "      <td>One day after explosive devices were discovere...</td>\n",
       "      <td>http://abcnews.go.com/Politics/donald-trump-re...</td>\n",
       "      <td>real</td>\n",
       "    </tr>\n",
       "    <tr>\n",
       "      <th>3</th>\n",
       "      <td>Buzzfeed</td>\n",
       "      <td>NY, NJ Bombings Suspect Charged With Attempted...</td>\n",
       "      <td>EMILY SHAPIRO Aaron Katersky Josh Margolin Mik...</td>\n",
       "      <td>Ahmad Khan Rahami, earlier named a person of i...</td>\n",
       "      <td>http://abcnews.go.com/US/bombing-incidences-ny...</td>\n",
       "      <td>real</td>\n",
       "    </tr>\n",
       "    <tr>\n",
       "      <th>4</th>\n",
       "      <td>Buzzfeed</td>\n",
       "      <td>Trump Surrogates Push Narrative That Clinton S...</td>\n",
       "      <td>Candace Smith</td>\n",
       "      <td>Donald Trump's surrogates and leading supporte...</td>\n",
       "      <td>http://abcnews.go.com/Politics/trump-surrogate...</td>\n",
       "      <td>real</td>\n",
       "    </tr>\n",
       "  </tbody>\n",
       "</table>\n",
       "</div>"
      ],
      "text/plain": [
       "    dataset                                              title  \\\n",
       "0  Buzzfeed              The Impact of Debates? It's Debatable   \n",
       "1  Buzzfeed  Details Emerge About NYC Bomb Suspect Ahmad Kh...   \n",
       "2  Buzzfeed  Donald Trump Repeats Calls for Police Profilin...   \n",
       "3  Buzzfeed  NY, NJ Bombings Suspect Charged With Attempted...   \n",
       "4  Buzzfeed  Trump Surrogates Push Narrative That Clinton S...   \n",
       "\n",
       "                                              author  \\\n",
       "0                                        GARY LANGER   \n",
       "1  Brian Ross Rhonda Schwartz Mike Levine Stephan...   \n",
       "2                                     ALANA ABRAMSON   \n",
       "3  EMILY SHAPIRO Aaron Katersky Josh Margolin Mik...   \n",
       "4                                      Candace Smith   \n",
       "\n",
       "                                                text  \\\n",
       "0  With the Hillary Clinton-Donald Trump debates ...   \n",
       "1  As police today captured the man wanted for qu...   \n",
       "2  One day after explosive devices were discovere...   \n",
       "3  Ahmad Khan Rahami, earlier named a person of i...   \n",
       "4  Donald Trump's surrogates and leading supporte...   \n",
       "\n",
       "                                                 url label  \n",
       "0  http://abcnews.go.com/Politics/impact-debates-...  real  \n",
       "1  http://abcnews.go.com/US/source-suspect-wanted...  real  \n",
       "2  http://abcnews.go.com/Politics/donald-trump-re...  real  \n",
       "3  http://abcnews.go.com/US/bombing-incidences-ny...  real  \n",
       "4  http://abcnews.go.com/Politics/trump-surrogate...  real  "
      ]
     },
     "execution_count": 31,
     "metadata": {},
     "output_type": "execute_result"
    }
   ],
   "source": [
    "df6.head()"
   ]
  },
  {
   "cell_type": "code",
   "execution_count": 33,
   "metadata": {},
   "outputs": [],
   "source": [
    "df6.to_csv('data_wang.csv', index=False)"
   ]
  },
  {
   "cell_type": "code",
   "execution_count": null,
   "metadata": {},
   "outputs": [],
   "source": []
  }
 ],
 "metadata": {
  "kernelspec": {
   "display_name": "Python 3",
   "language": "python",
   "name": "python3"
  },
  "language_info": {
   "codemirror_mode": {
    "name": "ipython",
    "version": 3
   },
   "file_extension": ".py",
   "mimetype": "text/x-python",
   "name": "python",
   "nbconvert_exporter": "python",
   "pygments_lexer": "ipython3",
   "version": "3.6.5"
  }
 },
 "nbformat": 4,
 "nbformat_minor": 2
}
