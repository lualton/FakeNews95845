{
 "cells": [
  {
   "cell_type": "markdown",
   "metadata": {},
   "source": [
    "### Joining Fake News data\n",
    "\n",
    "This notebook will join different datasets from McIntire-Kaggle, Veronica et al. 2017, and BuzzFeed Fake News Corpus"
   ]
  },
  {
   "cell_type": "code",
   "execution_count": 2,
   "metadata": {},
   "outputs": [],
   "source": [
    "import pandas as pd\n",
    "import numpy as np\n",
    "from IPython.core.interactiveshell import InteractiveShell\n",
    "InteractiveShell.ast_node_interactivity = \"all\""
   ]
  },
  {
   "cell_type": "code",
   "execution_count": 4,
   "metadata": {},
   "outputs": [
    {
     "data": {
      "text/plain": [
       "(1627, 5)"
      ]
     },
     "execution_count": 4,
     "metadata": {},
     "output_type": "execute_result"
    },
    {
     "data": {
      "text/plain": [
       "(6335, 4)"
      ]
     },
     "execution_count": 4,
     "metadata": {},
     "output_type": "execute_result"
    },
    {
     "data": {
      "text/plain": [
       "(480, 4)"
      ]
     },
     "execution_count": 4,
     "metadata": {},
     "output_type": "execute_result"
    },
    {
     "data": {
      "text/plain": [
       "(500, 4)"
      ]
     },
     "execution_count": 4,
     "metadata": {},
     "output_type": "execute_result"
    }
   ],
   "source": [
    "buzz = pd.read_csv(\"data/buzzfeedcorpus.csv\")\n",
    "kaggle = pd.read_csv(\"data/fake_or_real_news.csv\")\n",
    "news = pd.read_csv('data/news.csv')\n",
    "celebrity = pd.read_csv(\"data/celebrity.csv\")\n",
    "\n",
    "buzz.shape\n",
    "kaggle.shape\n",
    "news.shape\n",
    "celebrity.shape"
   ]
  },
  {
   "cell_type": "code",
   "execution_count": 5,
   "metadata": {},
   "outputs": [
    {
     "data": {
      "text/plain": [
       "Index(['title', 'author', 'text', 'url', 'veracity'], dtype='object')"
      ]
     },
     "execution_count": 5,
     "metadata": {},
     "output_type": "execute_result"
    },
    {
     "data": {
      "text/plain": [
       "Index(['Unnamed: 0', 'title', 'text', 'label'], dtype='object')"
      ]
     },
     "execution_count": 5,
     "metadata": {},
     "output_type": "execute_result"
    },
    {
     "data": {
      "text/plain": [
       "Index(['content', 'class', 'source', 'file_name'], dtype='object')"
      ]
     },
     "execution_count": 5,
     "metadata": {},
     "output_type": "execute_result"
    },
    {
     "data": {
      "text/plain": [
       "Index(['content', 'class', 'source', 'file_name'], dtype='object')"
      ]
     },
     "execution_count": 5,
     "metadata": {},
     "output_type": "execute_result"
    }
   ],
   "source": [
    "buzz.columns\n",
    "kaggle.columns\n",
    "news.columns\n",
    "celebrity.columns"
   ]
  },
  {
   "cell_type": "markdown",
   "metadata": {},
   "source": [
    "#### Column differences\n",
    "We'll need to work around the differences in columns. While I'd rather have the publisher, source, author - some of our data just isn't good enough to do that. \n",
    "\n",
    "We'll just keep the normal format of the buzzfeed [title, author, text, url, label] and force all the data to adopt that format."
   ]
  },
  {
   "cell_type": "code",
   "execution_count": 6,
   "metadata": {},
   "outputs": [
    {
     "data": {
      "text/plain": [
       "mostly true                  1264\n",
       "mixture of true and false     212\n",
       "mostly false                   87\n",
       "no factual content             64\n",
       "Name: veracity, dtype: int64"
      ]
     },
     "execution_count": 6,
     "metadata": {},
     "output_type": "execute_result"
    },
    {
     "data": {
      "text/plain": [
       "REAL    3171\n",
       "FAKE    3164\n",
       "Name: label, dtype: int64"
      ]
     },
     "execution_count": 6,
     "metadata": {},
     "output_type": "execute_result"
    },
    {
     "data": {
      "text/plain": [
       "legit    240\n",
       "fake     240\n",
       "Name: class, dtype: int64"
      ]
     },
     "execution_count": 6,
     "metadata": {},
     "output_type": "execute_result"
    },
    {
     "data": {
      "text/plain": [
       "legit    250\n",
       "fake     250\n",
       "Name: class, dtype: int64"
      ]
     },
     "execution_count": 6,
     "metadata": {},
     "output_type": "execute_result"
    }
   ],
   "source": [
    "buzz['veracity'].value_counts()\n",
    "kaggle['label'].value_counts()\n",
    "news['class'].value_counts()\n",
    "celebrity['class'].value_counts()"
   ]
  },
  {
   "cell_type": "markdown",
   "metadata": {},
   "source": [
    "#### Modifying Kaggle Data"
   ]
  },
  {
   "cell_type": "code",
   "execution_count": 7,
   "metadata": {},
   "outputs": [],
   "source": [
    "kaggle['author'], kaggle['url'] = np.nan, np.nan\n",
    "kaggle = kaggle.drop('Unnamed: 0', axis=1)\n",
    "kaggle = kaggle[['title', 'author', 'text', 'url', 'label']]"
   ]
  },
  {
   "cell_type": "code",
   "execution_count": 8,
   "metadata": {},
   "outputs": [
    {
     "data": {
      "text/html": [
       "<div>\n",
       "<style scoped>\n",
       "    .dataframe tbody tr th:only-of-type {\n",
       "        vertical-align: middle;\n",
       "    }\n",
       "\n",
       "    .dataframe tbody tr th {\n",
       "        vertical-align: top;\n",
       "    }\n",
       "\n",
       "    .dataframe thead th {\n",
       "        text-align: right;\n",
       "    }\n",
       "</style>\n",
       "<table border=\"1\" class=\"dataframe\">\n",
       "  <thead>\n",
       "    <tr style=\"text-align: right;\">\n",
       "      <th></th>\n",
       "      <th>title</th>\n",
       "      <th>author</th>\n",
       "      <th>text</th>\n",
       "      <th>url</th>\n",
       "      <th>label</th>\n",
       "    </tr>\n",
       "  </thead>\n",
       "  <tbody>\n",
       "    <tr>\n",
       "      <th>0</th>\n",
       "      <td>You Can Smell Hillary’s Fear</td>\n",
       "      <td>NaN</td>\n",
       "      <td>Daniel Greenfield, a Shillman Journalism Fello...</td>\n",
       "      <td>NaN</td>\n",
       "      <td>FAKE</td>\n",
       "    </tr>\n",
       "    <tr>\n",
       "      <th>1</th>\n",
       "      <td>Watch The Exact Moment Paul Ryan Committed Pol...</td>\n",
       "      <td>NaN</td>\n",
       "      <td>Google Pinterest Digg Linkedin Reddit Stumbleu...</td>\n",
       "      <td>NaN</td>\n",
       "      <td>FAKE</td>\n",
       "    </tr>\n",
       "    <tr>\n",
       "      <th>2</th>\n",
       "      <td>Kerry to go to Paris in gesture of sympathy</td>\n",
       "      <td>NaN</td>\n",
       "      <td>U.S. Secretary of State John F. Kerry said Mon...</td>\n",
       "      <td>NaN</td>\n",
       "      <td>REAL</td>\n",
       "    </tr>\n",
       "    <tr>\n",
       "      <th>3</th>\n",
       "      <td>Bernie supporters on Twitter erupt in anger ag...</td>\n",
       "      <td>NaN</td>\n",
       "      <td>— Kaydee King (@KaydeeKing) November 9, 2016 T...</td>\n",
       "      <td>NaN</td>\n",
       "      <td>FAKE</td>\n",
       "    </tr>\n",
       "    <tr>\n",
       "      <th>4</th>\n",
       "      <td>The Battle of New York: Why This Primary Matters</td>\n",
       "      <td>NaN</td>\n",
       "      <td>It's primary day in New York and front-runners...</td>\n",
       "      <td>NaN</td>\n",
       "      <td>REAL</td>\n",
       "    </tr>\n",
       "  </tbody>\n",
       "</table>\n",
       "</div>"
      ],
      "text/plain": [
       "                                               title  author  \\\n",
       "0                       You Can Smell Hillary’s Fear     NaN   \n",
       "1  Watch The Exact Moment Paul Ryan Committed Pol...     NaN   \n",
       "2        Kerry to go to Paris in gesture of sympathy     NaN   \n",
       "3  Bernie supporters on Twitter erupt in anger ag...     NaN   \n",
       "4   The Battle of New York: Why This Primary Matters     NaN   \n",
       "\n",
       "                                                text  url label  \n",
       "0  Daniel Greenfield, a Shillman Journalism Fello...  NaN  FAKE  \n",
       "1  Google Pinterest Digg Linkedin Reddit Stumbleu...  NaN  FAKE  \n",
       "2  U.S. Secretary of State John F. Kerry said Mon...  NaN  REAL  \n",
       "3  — Kaydee King (@KaydeeKing) November 9, 2016 T...  NaN  FAKE  \n",
       "4  It's primary day in New York and front-runners...  NaN  REAL  "
      ]
     },
     "execution_count": 8,
     "metadata": {},
     "output_type": "execute_result"
    }
   ],
   "source": [
    "kaggle.head()"
   ]
  },
  {
   "cell_type": "markdown",
   "metadata": {},
   "source": [
    "#### Modifying Buzzfeed Data"
   ]
  },
  {
   "cell_type": "code",
   "execution_count": 10,
   "metadata": {},
   "outputs": [],
   "source": [
    "buzz.rename(columns = {'veracity': 'label'}, inplace=True)"
   ]
  },
  {
   "cell_type": "code",
   "execution_count": 11,
   "metadata": {},
   "outputs": [
    {
     "data": {
      "text/html": [
       "<div>\n",
       "<style scoped>\n",
       "    .dataframe tbody tr th:only-of-type {\n",
       "        vertical-align: middle;\n",
       "    }\n",
       "\n",
       "    .dataframe tbody tr th {\n",
       "        vertical-align: top;\n",
       "    }\n",
       "\n",
       "    .dataframe thead th {\n",
       "        text-align: right;\n",
       "    }\n",
       "</style>\n",
       "<table border=\"1\" class=\"dataframe\">\n",
       "  <thead>\n",
       "    <tr style=\"text-align: right;\">\n",
       "      <th></th>\n",
       "      <th>title</th>\n",
       "      <th>author</th>\n",
       "      <th>text</th>\n",
       "      <th>url</th>\n",
       "      <th>label</th>\n",
       "    </tr>\n",
       "  </thead>\n",
       "  <tbody>\n",
       "    <tr>\n",
       "      <th>0</th>\n",
       "      <td>The Impact of Debates? It's Debatable</td>\n",
       "      <td>GARY LANGER</td>\n",
       "      <td>With the Hillary Clinton-Donald Trump debates ...</td>\n",
       "      <td>http://abcnews.go.com/Politics/impact-debates-...</td>\n",
       "      <td>mostly true</td>\n",
       "    </tr>\n",
       "    <tr>\n",
       "      <th>1</th>\n",
       "      <td>Details Emerge About NYC Bomb Suspect Ahmad Kh...</td>\n",
       "      <td>Brian Ross Rhonda Schwartz Mike Levine Stephan...</td>\n",
       "      <td>As police today captured the man wanted for qu...</td>\n",
       "      <td>http://abcnews.go.com/US/source-suspect-wanted...</td>\n",
       "      <td>mostly true</td>\n",
       "    </tr>\n",
       "    <tr>\n",
       "      <th>2</th>\n",
       "      <td>Donald Trump Repeats Calls for Police Profilin...</td>\n",
       "      <td>ALANA ABRAMSON</td>\n",
       "      <td>One day after explosive devices were discovere...</td>\n",
       "      <td>http://abcnews.go.com/Politics/donald-trump-re...</td>\n",
       "      <td>mostly true</td>\n",
       "    </tr>\n",
       "    <tr>\n",
       "      <th>3</th>\n",
       "      <td>NY, NJ Bombings Suspect Charged With Attempted...</td>\n",
       "      <td>EMILY SHAPIRO Aaron Katersky Josh Margolin Mik...</td>\n",
       "      <td>Ahmad Khan Rahami, earlier named a person of i...</td>\n",
       "      <td>http://abcnews.go.com/US/bombing-incidences-ny...</td>\n",
       "      <td>mostly true</td>\n",
       "    </tr>\n",
       "    <tr>\n",
       "      <th>4</th>\n",
       "      <td>Trump Surrogates Push Narrative That Clinton S...</td>\n",
       "      <td>Candace Smith</td>\n",
       "      <td>Donald Trump's surrogates and leading supporte...</td>\n",
       "      <td>http://abcnews.go.com/Politics/trump-surrogate...</td>\n",
       "      <td>mostly true</td>\n",
       "    </tr>\n",
       "  </tbody>\n",
       "</table>\n",
       "</div>"
      ],
      "text/plain": [
       "                                               title  \\\n",
       "0              The Impact of Debates? It's Debatable   \n",
       "1  Details Emerge About NYC Bomb Suspect Ahmad Kh...   \n",
       "2  Donald Trump Repeats Calls for Police Profilin...   \n",
       "3  NY, NJ Bombings Suspect Charged With Attempted...   \n",
       "4  Trump Surrogates Push Narrative That Clinton S...   \n",
       "\n",
       "                                              author  \\\n",
       "0                                        GARY LANGER   \n",
       "1  Brian Ross Rhonda Schwartz Mike Levine Stephan...   \n",
       "2                                     ALANA ABRAMSON   \n",
       "3  EMILY SHAPIRO Aaron Katersky Josh Margolin Mik...   \n",
       "4                                      Candace Smith   \n",
       "\n",
       "                                                text  \\\n",
       "0  With the Hillary Clinton-Donald Trump debates ...   \n",
       "1  As police today captured the man wanted for qu...   \n",
       "2  One day after explosive devices were discovere...   \n",
       "3  Ahmad Khan Rahami, earlier named a person of i...   \n",
       "4  Donald Trump's surrogates and leading supporte...   \n",
       "\n",
       "                                                 url        label  \n",
       "0  http://abcnews.go.com/Politics/impact-debates-...  mostly true  \n",
       "1  http://abcnews.go.com/US/source-suspect-wanted...  mostly true  \n",
       "2  http://abcnews.go.com/Politics/donald-trump-re...  mostly true  \n",
       "3  http://abcnews.go.com/US/bombing-incidences-ny...  mostly true  \n",
       "4  http://abcnews.go.com/Politics/trump-surrogate...  mostly true  "
      ]
     },
     "execution_count": 11,
     "metadata": {},
     "output_type": "execute_result"
    }
   ],
   "source": [
    "buzz.head()"
   ]
  },
  {
   "cell_type": "markdown",
   "metadata": {},
   "source": [
    "#### Modifying the news/celebrity data from Veronica 2017"
   ]
  },
  {
   "cell_type": "code",
   "execution_count": 12,
   "metadata": {},
   "outputs": [],
   "source": [
    "news.rename(columns = {'content': 'text', 'class': 'label', 'file_name':'url'}, inplace=True)\n",
    "celebrity.rename(columns = {'content': 'text', 'class': 'label', 'file_name':'url'}, inplace=True)\n",
    "news['title'], news['author'], celebrity['title'], celebrity['author'] = np.nan, np.nan, np.nan, np.nan\n",
    "news, celebrity = news[['title', 'author', 'text', 'url', 'label']], celebrity[['title', 'author', 'text', 'url', 'label']]"
   ]
  },
  {
   "cell_type": "code",
   "execution_count": 13,
   "metadata": {},
   "outputs": [
    {
     "data": {
      "text/html": [
       "<div>\n",
       "<style scoped>\n",
       "    .dataframe tbody tr th:only-of-type {\n",
       "        vertical-align: middle;\n",
       "    }\n",
       "\n",
       "    .dataframe tbody tr th {\n",
       "        vertical-align: top;\n",
       "    }\n",
       "\n",
       "    .dataframe thead th {\n",
       "        text-align: right;\n",
       "    }\n",
       "</style>\n",
       "<table border=\"1\" class=\"dataframe\">\n",
       "  <thead>\n",
       "    <tr style=\"text-align: right;\">\n",
       "      <th></th>\n",
       "      <th>title</th>\n",
       "      <th>author</th>\n",
       "      <th>text</th>\n",
       "      <th>url</th>\n",
       "      <th>label</th>\n",
       "    </tr>\n",
       "  </thead>\n",
       "  <tbody>\n",
       "    <tr>\n",
       "      <th>0</th>\n",
       "      <td>NaN</td>\n",
       "      <td>NaN</td>\n",
       "      <td>Alex Jones Vindicated in \"Pizzagate\" Controver...</td>\n",
       "      <td>biz01.fake.txt</td>\n",
       "      <td>fake</td>\n",
       "    </tr>\n",
       "    <tr>\n",
       "      <th>1</th>\n",
       "      <td>NaN</td>\n",
       "      <td>NaN</td>\n",
       "      <td>THE BIG DATA CONSPIRACYGovernment and Silicon ...</td>\n",
       "      <td>biz02.fake.txt</td>\n",
       "      <td>fake</td>\n",
       "    </tr>\n",
       "    <tr>\n",
       "      <th>2</th>\n",
       "      <td>NaN</td>\n",
       "      <td>NaN</td>\n",
       "      <td>California Surprisingly Lenient on Auto Emissi...</td>\n",
       "      <td>biz03.fake.txt</td>\n",
       "      <td>fake</td>\n",
       "    </tr>\n",
       "    <tr>\n",
       "      <th>3</th>\n",
       "      <td>NaN</td>\n",
       "      <td>NaN</td>\n",
       "      <td>Mexicans Are Chomping at the Bit to Stop NAFTA...</td>\n",
       "      <td>biz04.fake.txt</td>\n",
       "      <td>fake</td>\n",
       "    </tr>\n",
       "    <tr>\n",
       "      <th>4</th>\n",
       "      <td>NaN</td>\n",
       "      <td>NaN</td>\n",
       "      <td>Breaking News: Snapchat to purchase Twitter fo...</td>\n",
       "      <td>biz05.fake.txt</td>\n",
       "      <td>fake</td>\n",
       "    </tr>\n",
       "  </tbody>\n",
       "</table>\n",
       "</div>"
      ],
      "text/plain": [
       "   title  author                                               text  \\\n",
       "0    NaN     NaN  Alex Jones Vindicated in \"Pizzagate\" Controver...   \n",
       "1    NaN     NaN  THE BIG DATA CONSPIRACYGovernment and Silicon ...   \n",
       "2    NaN     NaN  California Surprisingly Lenient on Auto Emissi...   \n",
       "3    NaN     NaN  Mexicans Are Chomping at the Bit to Stop NAFTA...   \n",
       "4    NaN     NaN  Breaking News: Snapchat to purchase Twitter fo...   \n",
       "\n",
       "              url label  \n",
       "0  biz01.fake.txt  fake  \n",
       "1  biz02.fake.txt  fake  \n",
       "2  biz03.fake.txt  fake  \n",
       "3  biz04.fake.txt  fake  \n",
       "4  biz05.fake.txt  fake  "
      ]
     },
     "execution_count": 13,
     "metadata": {},
     "output_type": "execute_result"
    },
    {
     "data": {
      "text/html": [
       "<div>\n",
       "<style scoped>\n",
       "    .dataframe tbody tr th:only-of-type {\n",
       "        vertical-align: middle;\n",
       "    }\n",
       "\n",
       "    .dataframe tbody tr th {\n",
       "        vertical-align: top;\n",
       "    }\n",
       "\n",
       "    .dataframe thead th {\n",
       "        text-align: right;\n",
       "    }\n",
       "</style>\n",
       "<table border=\"1\" class=\"dataframe\">\n",
       "  <thead>\n",
       "    <tr style=\"text-align: right;\">\n",
       "      <th></th>\n",
       "      <th>title</th>\n",
       "      <th>author</th>\n",
       "      <th>text</th>\n",
       "      <th>url</th>\n",
       "      <th>label</th>\n",
       "    </tr>\n",
       "  </thead>\n",
       "  <tbody>\n",
       "    <tr>\n",
       "      <th>0</th>\n",
       "      <td>NaN</td>\n",
       "      <td>NaN</td>\n",
       "      <td>JENNIFER ANISTON HINTS AT FRIENDS REUNIONJenni...</td>\n",
       "      <td>001fake.txt</td>\n",
       "      <td>fake</td>\n",
       "    </tr>\n",
       "    <tr>\n",
       "      <th>1</th>\n",
       "      <td>NaN</td>\n",
       "      <td>NaN</td>\n",
       "      <td>Brad Pitt Texts Jennifer Aniston Nonstop: Seek...</td>\n",
       "      <td>002fake.txt</td>\n",
       "      <td>fake</td>\n",
       "    </tr>\n",
       "    <tr>\n",
       "      <th>2</th>\n",
       "      <td>NaN</td>\n",
       "      <td>NaN</td>\n",
       "      <td>Jennifer Aniston Pregnant With 'Miracle Baby' ...</td>\n",
       "      <td>003fake.txt</td>\n",
       "      <td>fake</td>\n",
       "    </tr>\n",
       "    <tr>\n",
       "      <th>3</th>\n",
       "      <td>NaN</td>\n",
       "      <td>NaN</td>\n",
       "      <td>Heartbroken Jennifer Aniston Runs For The Bord...</td>\n",
       "      <td>004fake.txt</td>\n",
       "      <td>fake</td>\n",
       "    </tr>\n",
       "    <tr>\n",
       "      <th>4</th>\n",
       "      <td>NaN</td>\n",
       "      <td>NaN</td>\n",
       "      <td>Jennifer Aniston Cheated On Brad Pitt With Mat...</td>\n",
       "      <td>005fake.txt</td>\n",
       "      <td>fake</td>\n",
       "    </tr>\n",
       "  </tbody>\n",
       "</table>\n",
       "</div>"
      ],
      "text/plain": [
       "   title  author                                               text  \\\n",
       "0    NaN     NaN  JENNIFER ANISTON HINTS AT FRIENDS REUNIONJenni...   \n",
       "1    NaN     NaN  Brad Pitt Texts Jennifer Aniston Nonstop: Seek...   \n",
       "2    NaN     NaN  Jennifer Aniston Pregnant With 'Miracle Baby' ...   \n",
       "3    NaN     NaN  Heartbroken Jennifer Aniston Runs For The Bord...   \n",
       "4    NaN     NaN  Jennifer Aniston Cheated On Brad Pitt With Mat...   \n",
       "\n",
       "           url label  \n",
       "0  001fake.txt  fake  \n",
       "1  002fake.txt  fake  \n",
       "2  003fake.txt  fake  \n",
       "3  004fake.txt  fake  \n",
       "4  005fake.txt  fake  "
      ]
     },
     "execution_count": 13,
     "metadata": {},
     "output_type": "execute_result"
    }
   ],
   "source": [
    "news.head()\n",
    "celebrity.head()"
   ]
  },
  {
   "cell_type": "markdown",
   "metadata": {},
   "source": [
    "#### Concatenating the separate datasets "
   ]
  },
  {
   "cell_type": "code",
   "execution_count": 14,
   "metadata": {},
   "outputs": [
    {
     "data": {
      "text/html": [
       "<div>\n",
       "<style scoped>\n",
       "    .dataframe tbody tr th:only-of-type {\n",
       "        vertical-align: middle;\n",
       "    }\n",
       "\n",
       "    .dataframe tbody tr th {\n",
       "        vertical-align: top;\n",
       "    }\n",
       "\n",
       "    .dataframe thead th {\n",
       "        text-align: right;\n",
       "    }\n",
       "</style>\n",
       "<table border=\"1\" class=\"dataframe\">\n",
       "  <thead>\n",
       "    <tr style=\"text-align: right;\">\n",
       "      <th></th>\n",
       "      <th>title</th>\n",
       "      <th>author</th>\n",
       "      <th>text</th>\n",
       "      <th>url</th>\n",
       "      <th>label</th>\n",
       "    </tr>\n",
       "  </thead>\n",
       "  <tbody>\n",
       "    <tr>\n",
       "      <th>0</th>\n",
       "      <td>The Impact of Debates? It's Debatable</td>\n",
       "      <td>GARY LANGER</td>\n",
       "      <td>With the Hillary Clinton-Donald Trump debates ...</td>\n",
       "      <td>http://abcnews.go.com/Politics/impact-debates-...</td>\n",
       "      <td>mostly true</td>\n",
       "    </tr>\n",
       "    <tr>\n",
       "      <th>1</th>\n",
       "      <td>Details Emerge About NYC Bomb Suspect Ahmad Kh...</td>\n",
       "      <td>Brian Ross Rhonda Schwartz Mike Levine Stephan...</td>\n",
       "      <td>As police today captured the man wanted for qu...</td>\n",
       "      <td>http://abcnews.go.com/US/source-suspect-wanted...</td>\n",
       "      <td>mostly true</td>\n",
       "    </tr>\n",
       "    <tr>\n",
       "      <th>2</th>\n",
       "      <td>Donald Trump Repeats Calls for Police Profilin...</td>\n",
       "      <td>ALANA ABRAMSON</td>\n",
       "      <td>One day after explosive devices were discovere...</td>\n",
       "      <td>http://abcnews.go.com/Politics/donald-trump-re...</td>\n",
       "      <td>mostly true</td>\n",
       "    </tr>\n",
       "    <tr>\n",
       "      <th>3</th>\n",
       "      <td>NY, NJ Bombings Suspect Charged With Attempted...</td>\n",
       "      <td>EMILY SHAPIRO Aaron Katersky Josh Margolin Mik...</td>\n",
       "      <td>Ahmad Khan Rahami, earlier named a person of i...</td>\n",
       "      <td>http://abcnews.go.com/US/bombing-incidences-ny...</td>\n",
       "      <td>mostly true</td>\n",
       "    </tr>\n",
       "    <tr>\n",
       "      <th>4</th>\n",
       "      <td>Trump Surrogates Push Narrative That Clinton S...</td>\n",
       "      <td>Candace Smith</td>\n",
       "      <td>Donald Trump's surrogates and leading supporte...</td>\n",
       "      <td>http://abcnews.go.com/Politics/trump-surrogate...</td>\n",
       "      <td>mostly true</td>\n",
       "    </tr>\n",
       "  </tbody>\n",
       "</table>\n",
       "</div>"
      ],
      "text/plain": [
       "                                               title  \\\n",
       "0              The Impact of Debates? It's Debatable   \n",
       "1  Details Emerge About NYC Bomb Suspect Ahmad Kh...   \n",
       "2  Donald Trump Repeats Calls for Police Profilin...   \n",
       "3  NY, NJ Bombings Suspect Charged With Attempted...   \n",
       "4  Trump Surrogates Push Narrative That Clinton S...   \n",
       "\n",
       "                                              author  \\\n",
       "0                                        GARY LANGER   \n",
       "1  Brian Ross Rhonda Schwartz Mike Levine Stephan...   \n",
       "2                                     ALANA ABRAMSON   \n",
       "3  EMILY SHAPIRO Aaron Katersky Josh Margolin Mik...   \n",
       "4                                      Candace Smith   \n",
       "\n",
       "                                                text  \\\n",
       "0  With the Hillary Clinton-Donald Trump debates ...   \n",
       "1  As police today captured the man wanted for qu...   \n",
       "2  One day after explosive devices were discovere...   \n",
       "3  Ahmad Khan Rahami, earlier named a person of i...   \n",
       "4  Donald Trump's surrogates and leading supporte...   \n",
       "\n",
       "                                                 url        label  \n",
       "0  http://abcnews.go.com/Politics/impact-debates-...  mostly true  \n",
       "1  http://abcnews.go.com/US/source-suspect-wanted...  mostly true  \n",
       "2  http://abcnews.go.com/Politics/donald-trump-re...  mostly true  \n",
       "3  http://abcnews.go.com/US/bombing-incidences-ny...  mostly true  \n",
       "4  http://abcnews.go.com/Politics/trump-surrogate...  mostly true  "
      ]
     },
     "execution_count": 14,
     "metadata": {},
     "output_type": "execute_result"
    }
   ],
   "source": [
    "data = pd.concat([buzz, kaggle, news, celebrity])\n",
    "data.head()"
   ]
  },
  {
   "cell_type": "code",
   "execution_count": 15,
   "metadata": {},
   "outputs": [
    {
     "data": {
      "text/plain": [
       "REAL                         3171\n",
       "FAKE                         3164\n",
       "mostly true                  1264\n",
       "legit                         490\n",
       "fake                          490\n",
       "mixture of true and false     212\n",
       "mostly false                   87\n",
       "no factual content             64\n",
       "Name: label, dtype: int64"
      ]
     },
     "execution_count": 15,
     "metadata": {},
     "output_type": "execute_result"
    }
   ],
   "source": [
    "data['label'].value_counts()"
   ]
  },
  {
   "cell_type": "markdown",
   "metadata": {},
   "source": [
    "#### Changing labels\n",
    "This is probably the most important part that we're glossing over for now. But how do we match different ways of defining 'fake'. Each dataset has a slightly different way. The buzzfeed method is great because they define some level of veracity \"mostly, mixture\" etc. But the Mcintire one is just real or fake. \n",
    "\n",
    "We'll come back to this repeatedly, but this is just a first step to get us started."
   ]
  },
  {
   "cell_type": "code",
   "execution_count": 16,
   "metadata": {},
   "outputs": [
    {
     "data": {
      "text/plain": [
       "real                         4925\n",
       "fake                         3805\n",
       "mixture of true and false     212\n",
       "Name: label, dtype: int64"
      ]
     },
     "execution_count": 16,
     "metadata": {},
     "output_type": "execute_result"
    }
   ],
   "source": [
    "data = data.replace(('mostly true', 'legit', 'REAL'), 'real')\n",
    "data = data.replace(('FAKE', 'fake', 'mostly false', 'no factual content'), 'fake')\n",
    "\n",
    "data['label'].value_counts()"
   ]
  },
  {
   "cell_type": "code",
   "execution_count": null,
   "metadata": {},
   "outputs": [],
   "source": [
    "# data.to_csv('combinedData.csv', index=False)"
   ]
  }
 ],
 "metadata": {
  "kernelspec": {
   "display_name": "Python 3",
   "language": "python",
   "name": "python3"
  },
  "language_info": {
   "codemirror_mode": {
    "name": "ipython",
    "version": 3
   },
   "file_extension": ".py",
   "mimetype": "text/x-python",
   "name": "python",
   "nbconvert_exporter": "python",
   "pygments_lexer": "ipython3",
   "version": "3.6.5"
  }
 },
 "nbformat": 4,
 "nbformat_minor": 2
}
